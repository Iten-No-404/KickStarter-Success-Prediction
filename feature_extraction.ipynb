{
 "cells": [
  {
   "cell_type": "code",
   "execution_count": 1,
   "metadata": {},
   "outputs": [],
   "source": [
    "import findspark\n",
    "findspark.init()"
   ]
  },
  {
   "cell_type": "code",
   "execution_count": 30,
   "metadata": {},
   "outputs": [],
   "source": [
    "\n",
    "from sklearn.model_selection import train_test_split\n",
    "from pyspark.ml.classification import LogisticRegression ,RandomForestClassifier ,LinearSVC\n",
    "from pyspark.sql import SparkSession\n",
    "from pyspark.ml.evaluation import BinaryClassificationEvaluator \n",
    "from pyspark.mllib.evaluation import BinaryClassificationMetrics\n",
    "from pyspark.ml.feature import VectorAssembler\n",
    "from pyspark.sql import SQLContext\n",
    "from pyspark import SparkContext\n",
    "from pyspark.ml.feature import OneHotEncoder\n",
    "from pyspark.ml.feature import StringIndexer\n",
    "\n",
    "from pyspark import SparkConf"
   ]
  },
  {
   "attachments": {},
   "cell_type": "markdown",
   "metadata": {},
   "source": [
    "### Sparks Integration"
   ]
  },
  {
   "cell_type": "code",
   "execution_count": 3,
   "metadata": {},
   "outputs": [
    {
     "name": "stderr",
     "output_type": "stream",
     "text": [
      "c:\\Users\\rorod\\miniforge3\\envs\\new_python_nlp_2\\lib\\site-packages\\pyspark\\context.py:317: FutureWarning: Python 3.7 support is deprecated in Spark 3.4.\n",
      "  warnings.warn(\"Python 3.7 support is deprecated in Spark 3.4.\", FutureWarning)\n"
     ]
    }
   ],
   "source": [
    "spark=SparkSession.builder\\\n",
    "    .master(\"local[*]\")\\\n",
    "    .appName(\"WordCount\")\\\n",
    "    .getOrCreate()"
   ]
  },
  {
   "cell_type": "code",
   "execution_count": 4,
   "metadata": {},
   "outputs": [],
   "source": [
    "sc=spark.sparkContext"
   ]
  },
  {
   "cell_type": "code",
   "execution_count": 5,
   "metadata": {},
   "outputs": [
    {
     "name": "stderr",
     "output_type": "stream",
     "text": [
      "data_preprovessing.ipynb:1: DtypeWarning: Columns (13,14,15) have mixed types.Specify dtype option on import or set low_memory=False.\n",
      "  {\n"
     ]
    }
   ],
   "source": [
    "%run data_preprovessing.ipynb"
   ]
  },
  {
   "attachments": {},
   "cell_type": "markdown",
   "metadata": {},
   "source": [
    "###  Feature Extraction"
   ]
  },
  {
   "cell_type": "code",
   "execution_count": 6,
   "metadata": {},
   "outputs": [
    {
     "name": "stdout",
     "output_type": "stream",
     "text": [
      "0    365934\n",
      "1    247037\n",
      "Name: state, dtype: int64\n"
     ]
    }
   ],
   "source": [
    "# convert labels to int so we can apply classification on them\n",
    "new_df.loc[new_df['state'] == 'failed','state'] = 0\n",
    "new_df.loc[new_df['state'] == 'successful','state'] = 1\n",
    "\n",
    "new_df['state'] = new_df['state'].astype('int64')\n",
    "print(new_df['state'].value_counts())"
   ]
  },
  {
   "cell_type": "code",
   "execution_count": 7,
   "metadata": {},
   "outputs": [],
   "source": [
    "# remove useless features\n",
    "data_model = new_df.drop(['ID','name','goal','category','deadline','launched'],axis=1)"
   ]
  },
  {
   "cell_type": "code",
   "execution_count": 8,
   "metadata": {},
   "outputs": [
    {
     "name": "stdout",
     "output_type": "stream",
     "text": [
      "['main_category' 'currency' 'pledged' 'state' 'backers' 'country'\n",
      " 'usd pledged']\n"
     ]
    }
   ],
   "source": [
    "print(data_model.columns.values)"
   ]
  },
  {
   "cell_type": "code",
   "execution_count": 9,
   "metadata": {},
   "outputs": [
    {
     "data": {
      "text/html": [
       "<div>\n",
       "<style scoped>\n",
       "    .dataframe tbody tr th:only-of-type {\n",
       "        vertical-align: middle;\n",
       "    }\n",
       "\n",
       "    .dataframe tbody tr th {\n",
       "        vertical-align: top;\n",
       "    }\n",
       "\n",
       "    .dataframe thead th {\n",
       "        text-align: right;\n",
       "    }\n",
       "</style>\n",
       "<table border=\"1\" class=\"dataframe\">\n",
       "  <thead>\n",
       "    <tr style=\"text-align: right;\">\n",
       "      <th></th>\n",
       "      <th>main_category</th>\n",
       "      <th>currency</th>\n",
       "      <th>pledged</th>\n",
       "      <th>state</th>\n",
       "      <th>backers</th>\n",
       "      <th>country</th>\n",
       "      <th>usd pledged</th>\n",
       "    </tr>\n",
       "  </thead>\n",
       "  <tbody>\n",
       "    <tr>\n",
       "      <th>4</th>\n",
       "      <td>Food</td>\n",
       "      <td>USD</td>\n",
       "      <td>52375</td>\n",
       "      <td>1</td>\n",
       "      <td>224.0</td>\n",
       "      <td>US</td>\n",
       "      <td>52375.000000</td>\n",
       "    </tr>\n",
       "    <tr>\n",
       "      <th>5</th>\n",
       "      <td>Food</td>\n",
       "      <td>USD</td>\n",
       "      <td>1205</td>\n",
       "      <td>1</td>\n",
       "      <td>16.0</td>\n",
       "      <td>US</td>\n",
       "      <td>1205.000000</td>\n",
       "    </tr>\n",
       "    <tr>\n",
       "      <th>10</th>\n",
       "      <td>Music</td>\n",
       "      <td>USD</td>\n",
       "      <td>12700</td>\n",
       "      <td>1</td>\n",
       "      <td>100.0</td>\n",
       "      <td>US</td>\n",
       "      <td>12700.000000</td>\n",
       "    </tr>\n",
       "    <tr>\n",
       "      <th>16</th>\n",
       "      <td>Music</td>\n",
       "      <td>USD</td>\n",
       "      <td>250</td>\n",
       "      <td>1</td>\n",
       "      <td>7.0</td>\n",
       "      <td>US</td>\n",
       "      <td>250.000000</td>\n",
       "    </tr>\n",
       "    <tr>\n",
       "      <th>18</th>\n",
       "      <td>Fashion</td>\n",
       "      <td>USD</td>\n",
       "      <td>34268</td>\n",
       "      <td>1</td>\n",
       "      <td>624.0</td>\n",
       "      <td>US</td>\n",
       "      <td>34268.000000</td>\n",
       "    </tr>\n",
       "    <tr>\n",
       "      <th>21</th>\n",
       "      <td>Comics</td>\n",
       "      <td>USD</td>\n",
       "      <td>701.66</td>\n",
       "      <td>1</td>\n",
       "      <td>66.0</td>\n",
       "      <td>US</td>\n",
       "      <td>701.659973</td>\n",
       "    </tr>\n",
       "    <tr>\n",
       "      <th>22</th>\n",
       "      <td>Music</td>\n",
       "      <td>USD</td>\n",
       "      <td>15827</td>\n",
       "      <td>1</td>\n",
       "      <td>147.0</td>\n",
       "      <td>US</td>\n",
       "      <td>15827.000000</td>\n",
       "    </tr>\n",
       "    <tr>\n",
       "      <th>24</th>\n",
       "      <td>Film &amp; Video</td>\n",
       "      <td>CAD</td>\n",
       "      <td>48905</td>\n",
       "      <td>1</td>\n",
       "      <td>571.0</td>\n",
       "      <td>CA</td>\n",
       "      <td>43203.250000</td>\n",
       "    </tr>\n",
       "    <tr>\n",
       "      <th>25</th>\n",
       "      <td>Comics</td>\n",
       "      <td>GBP</td>\n",
       "      <td>112.38</td>\n",
       "      <td>1</td>\n",
       "      <td>27.0</td>\n",
       "      <td>GB</td>\n",
       "      <td>167.700302</td>\n",
       "    </tr>\n",
       "    <tr>\n",
       "      <th>27</th>\n",
       "      <td>Design</td>\n",
       "      <td>USD</td>\n",
       "      <td>47266</td>\n",
       "      <td>1</td>\n",
       "      <td>549.0</td>\n",
       "      <td>US</td>\n",
       "      <td>11253.000000</td>\n",
       "    </tr>\n",
       "  </tbody>\n",
       "</table>\n",
       "</div>"
      ],
      "text/plain": [
       "   main_category currency pledged  state  backers country   usd pledged\n",
       "4           Food      USD   52375      1    224.0      US  52375.000000\n",
       "5           Food      USD    1205      1     16.0      US   1205.000000\n",
       "10         Music      USD   12700      1    100.0      US  12700.000000\n",
       "16         Music      USD     250      1      7.0      US    250.000000\n",
       "18       Fashion      USD   34268      1    624.0      US  34268.000000\n",
       "21        Comics      USD  701.66      1     66.0      US    701.659973\n",
       "22         Music      USD   15827      1    147.0      US  15827.000000\n",
       "24  Film & Video      CAD   48905      1    571.0      CA  43203.250000\n",
       "25        Comics      GBP  112.38      1     27.0      GB    167.700302\n",
       "27        Design      USD   47266      1    549.0      US  11253.000000"
      ]
     },
     "execution_count": 9,
     "metadata": {},
     "output_type": "execute_result"
    }
   ],
   "source": [
    "data_model.head(10)"
   ]
  },
  {
   "cell_type": "code",
   "execution_count": 12,
   "metadata": {},
   "outputs": [],
   "source": [
    "df = spark.createDataFrame(data_model)"
   ]
  },
  {
   "cell_type": "code",
   "execution_count": 13,
   "metadata": {},
   "outputs": [
    {
     "name": "stdout",
     "output_type": "stream",
     "text": [
      "root\n",
      " |-- main_category: string (nullable = true)\n",
      " |-- currency: string (nullable = true)\n",
      " |-- pledged: string (nullable = true)\n",
      " |-- state: long (nullable = true)\n",
      " |-- backers: double (nullable = true)\n",
      " |-- country: string (nullable = true)\n",
      " |-- usd pledged: double (nullable = true)\n",
      "\n"
     ]
    }
   ],
   "source": [
    "df.printSchema()"
   ]
  },
  {
   "cell_type": "code",
   "execution_count": 14,
   "metadata": {},
   "outputs": [
    {
     "name": "stdout",
     "output_type": "stream",
     "text": [
      "+-------------+--------+-------+-----+-------+-------+-----------+\n",
      "|main_category|currency|pledged|state|backers|country|usd pledged|\n",
      "+-------------+--------+-------+-----+-------+-------+-----------+\n",
      "|         Food|     USD|  52375|    1|  224.0|     US|    52375.0|\n",
      "|         Food|     USD|   1205|    1|   16.0|     US|     1205.0|\n",
      "+-------------+--------+-------+-----+-------+-------+-----------+\n",
      "only showing top 2 rows\n",
      "\n"
     ]
    }
   ],
   "source": [
    "df.show(2)"
   ]
  },
  {
   "cell_type": "code",
   "execution_count": 15,
   "metadata": {},
   "outputs": [],
   "source": [
    "def encoding_features(feature_input,feature_output,df):\n",
    "    qualification_indexer = StringIndexer(inputCol=feature_input, outputCol=feature_output)#Fits a model to the input dataset with optional parameters.\n",
    "    df = qualification_indexer.fit(df).transform(df)\n",
    "    # df.show()\n",
    "    return df"
   ]
  },
  {
   "cell_type": "code",
   "execution_count": 16,
   "metadata": {},
   "outputs": [],
   "source": [
    "def one_hot_encoder(index,vec,df):\n",
    "    onehotencoder_qualification_vector = OneHotEncoder(inputCol=index, outputCol=vec)\n",
    "    df = onehotencoder_qualification_vector.fit(df).transform(df)\n",
    "    return df "
   ]
  },
  {
   "cell_type": "code",
   "execution_count": 17,
   "metadata": {},
   "outputs": [],
   "source": [
    "df=encoding_features(\"main_category\",\"main_category_index\",df)\n",
    "df =one_hot_encoder(\"main_category_index\",\"main_category_vec\",df)"
   ]
  },
  {
   "cell_type": "code",
   "execution_count": 18,
   "metadata": {},
   "outputs": [],
   "source": [
    "df=encoding_features(\"currency\",\"currency_index\",df)\n",
    "df =one_hot_encoder(\"currency_index\",\"currency_vec\",df)"
   ]
  },
  {
   "cell_type": "code",
   "execution_count": 19,
   "metadata": {},
   "outputs": [],
   "source": [
    "df=encoding_features(\"pledged\",\"pledged_index\",df)\n",
    "df =one_hot_encoder(\"pledged_index\",\"pledged_vec\",df)"
   ]
  },
  {
   "cell_type": "code",
   "execution_count": 20,
   "metadata": {},
   "outputs": [],
   "source": [
    "df=encoding_features(\"country\",\"country_index\",df)\n",
    "df=encoding_features(\"country_index\",\"country_vec\",df)"
   ]
  },
  {
   "cell_type": "code",
   "execution_count": 21,
   "metadata": {},
   "outputs": [],
   "source": [
    "assembler = VectorAssembler(inputCols = ['main_category_vec', 'currency_vec' ,'pledged_vec', 'backers' ,'country_vec',\n",
    " 'usd pledged'], outputCol='features')\n"
   ]
  },
  {
   "cell_type": "code",
   "execution_count": 22,
   "metadata": {},
   "outputs": [],
   "source": [
    "output = assembler.transform(df)"
   ]
  },
  {
   "attachments": {},
   "cell_type": "markdown",
   "metadata": {},
   "source": [
    "### ML Models"
   ]
  },
  {
   "cell_type": "code",
   "execution_count": 23,
   "metadata": {},
   "outputs": [],
   "source": [
    "train, test = output.randomSplit([0.7, 0.3])"
   ]
  },
  {
   "attachments": {},
   "cell_type": "markdown",
   "metadata": {},
   "source": [
    "### Logistic Regression"
   ]
  },
  {
   "cell_type": "code",
   "execution_count": 24,
   "metadata": {},
   "outputs": [],
   "source": [
    "lr = LogisticRegression(labelCol=\"state\",maxIter=10)\n",
    "lrn = lr.fit(train)"
   ]
  },
  {
   "cell_type": "code",
   "execution_count": 25,
   "metadata": {},
   "outputs": [],
   "source": [
    "predictions = lrn.transform(test)"
   ]
  },
  {
   "cell_type": "code",
   "execution_count": 26,
   "metadata": {},
   "outputs": [
    {
     "name": "stdout",
     "output_type": "stream",
     "text": [
      "0.777432319600384\n"
     ]
    }
   ],
   "source": [
    "\n",
    "eval = BinaryClassificationEvaluator(rawPredictionCol = \"prediction\", labelCol = \"state\")\n",
    "auc = eval.evaluate(predictions)\n",
    "print(auc)"
   ]
  },
  {
   "attachments": {},
   "cell_type": "markdown",
   "metadata": {},
   "source": [
    "### Linear SVM"
   ]
  },
  {
   "cell_type": "code",
   "execution_count": 32,
   "metadata": {},
   "outputs": [],
   "source": [
    "lsvc = LinearSVC(maxIter=10, regParam=0.1,labelCol=\"state\")\n",
    "lsvcModel = lsvc.fit(train)"
   ]
  },
  {
   "cell_type": "code",
   "execution_count": 33,
   "metadata": {},
   "outputs": [],
   "source": [
    "predictions = lsvcModel.transform(test)\n"
   ]
  },
  {
   "cell_type": "code",
   "execution_count": 34,
   "metadata": {},
   "outputs": [
    {
     "name": "stdout",
     "output_type": "stream",
     "text": [
      "0.7476256918850882\n"
     ]
    }
   ],
   "source": [
    "eval = BinaryClassificationEvaluator(rawPredictionCol = \"prediction\", labelCol = \"state\")\n",
    "auc = eval.evaluate(predictions)\n",
    "print(auc)"
   ]
  }
 ],
 "metadata": {
  "kernelspec": {
   "display_name": "Python 3",
   "language": "python",
   "name": "python3"
  },
  "language_info": {
   "codemirror_mode": {
    "name": "ipython",
    "version": 3
   },
   "file_extension": ".py",
   "mimetype": "text/x-python",
   "name": "python",
   "nbconvert_exporter": "python",
   "pygments_lexer": "ipython3",
   "version": "3.7.12"
  },
  "orig_nbformat": 4
 },
 "nbformat": 4,
 "nbformat_minor": 2
}

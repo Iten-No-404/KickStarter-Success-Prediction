{
 "cells": [
  {
   "cell_type": "code",
   "execution_count": 1,
   "metadata": {},
   "outputs": [],
   "source": [
    "import findspark\n",
    "findspark.init()"
   ]
  },
  {
   "cell_type": "code",
   "execution_count": 2,
   "metadata": {},
   "outputs": [],
   "source": [
    "\n",
    "from sklearn.model_selection import train_test_split\n",
    "from pyspark.ml.classification import LogisticRegression ,RandomForestClassifier ,LinearSVC\n",
    "from pyspark.sql import SparkSession\n",
    "from pyspark.ml.evaluation import BinaryClassificationEvaluator \n",
    "from pyspark.mllib.evaluation import BinaryClassificationMetrics\n",
    "from pyspark.ml.feature import VectorAssembler\n",
    "from pyspark.sql import SQLContext\n",
    "from pyspark import SparkContext\n",
    "from pyspark.ml.feature import OneHotEncoder\n",
    "from pyspark.ml.feature import StringIndexer\n",
    "import pandas as pd\n",
    "\n",
    "from pyspark import SparkConf\n",
    "from apyori import apriori"
   ]
  },
  {
   "cell_type": "code",
   "execution_count": 3,
   "metadata": {},
   "outputs": [
    {
     "name": "stderr",
     "output_type": "stream",
     "text": [
      "23/05/05 16:38:53 WARN Utils: Your hostname, jimbo-G5-5587 resolves to a loopback address: 127.0.1.1; using 192.168.1.5 instead (on interface wlp0s20f3)\n",
      "23/05/05 16:38:53 WARN Utils: Set SPARK_LOCAL_IP if you need to bind to another address\n",
      "Setting default log level to \"WARN\".\n",
      "To adjust logging level use sc.setLogLevel(newLevel). For SparkR, use setLogLevel(newLevel).\n",
      "23/05/05 16:38:53 WARN NativeCodeLoader: Unable to load native-hadoop library for your platform... using builtin-java classes where applicable\n"
     ]
    }
   ],
   "source": [
    "\n",
    "spark=SparkSession.builder\\\n",
    "    .master(\"local[*]\")\\\n",
    "    .appName(\"WordCount\")\\\n",
    "    .getOrCreate()\n",
    "sc=spark.sparkContext"
   ]
  },
  {
   "attachments": {},
   "cell_type": "markdown",
   "metadata": {},
   "source": [
    "### Data Preprocessing"
   ]
  },
  {
   "cell_type": "code",
   "execution_count": 59,
   "metadata": {},
   "outputs": [],
   "source": [
    "new_df=pd.read_csv('data/output.csv')"
   ]
  },
  {
   "cell_type": "code",
   "execution_count": 5,
   "metadata": {},
   "outputs": [],
   "source": [
    "output=new_df.copy()"
   ]
  },
  {
   "attachments": {},
   "cell_type": "markdown",
   "metadata": {},
   "source": [
    "###  Feature Extraction"
   ]
  },
  {
   "cell_type": "code",
   "execution_count": 60,
   "metadata": {},
   "outputs": [
    {
     "name": "stdout",
     "output_type": "stream",
     "text": [
      "0    364650\n",
      "1    246026\n",
      "Name: state, dtype: int64\n"
     ]
    }
   ],
   "source": [
    "# convert labels to int so we can apply classification on them\n",
    "new_df.loc[new_df['state'] == 'failed','state'] = 0\n",
    "new_df.loc[new_df['state'] == 'successful','state'] = 1\n",
    "\n",
    "new_df['state'] = new_df['state'].astype('int64')\n",
    "print(new_df['state'].value_counts())"
   ]
  },
  {
   "cell_type": "code",
   "execution_count": 7,
   "metadata": {},
   "outputs": [],
   "source": [
    "# remove useless features\n",
    "data_model = new_df.drop(['ID','name','goal','category','deadline','launched'],axis=1)"
   ]
  },
  {
   "cell_type": "code",
   "execution_count": 8,
   "metadata": {},
   "outputs": [
    {
     "name": "stdout",
     "output_type": "stream",
     "text": [
      "['main_category' 'currency' 'pledged' 'state' 'backers' 'country'\n",
      " 'usd pledged']\n"
     ]
    }
   ],
   "source": [
    "print(data_model.columns.values)"
   ]
  },
  {
   "cell_type": "code",
   "execution_count": 9,
   "metadata": {},
   "outputs": [],
   "source": [
    "df = spark.createDataFrame(data_model)"
   ]
  },
  {
   "cell_type": "code",
   "execution_count": 10,
   "metadata": {},
   "outputs": [
    {
     "name": "stdout",
     "output_type": "stream",
     "text": [
      "root\n",
      " |-- main_category: string (nullable = true)\n",
      " |-- currency: string (nullable = true)\n",
      " |-- pledged: double (nullable = true)\n",
      " |-- state: long (nullable = true)\n",
      " |-- backers: double (nullable = true)\n",
      " |-- country: string (nullable = true)\n",
      " |-- usd pledged: double (nullable = true)\n",
      "\n"
     ]
    }
   ],
   "source": [
    "df.printSchema()"
   ]
  },
  {
   "cell_type": "code",
   "execution_count": 11,
   "metadata": {},
   "outputs": [
    {
     "name": "stderr",
     "output_type": "stream",
     "text": [
      "23/05/05 16:39:35 WARN TaskSetManager: Stage 0 contains a task of very large size (1882 KiB). The maximum recommended task size is 1000 KiB.\n",
      "[Stage 0:>                                                          (0 + 1) / 1]\r"
     ]
    },
    {
     "name": "stdout",
     "output_type": "stream",
     "text": [
      "+-------------+--------+-------+-----+-------+-------+-----------+\n",
      "|main_category|currency|pledged|state|backers|country|usd pledged|\n",
      "+-------------+--------+-------+-----+-------+-------+-----------+\n",
      "|         Food|     USD|52375.0|    1|  224.0|     US|    52375.0|\n",
      "|         Food|     USD| 1205.0|    1|   16.0|     US|     1205.0|\n",
      "+-------------+--------+-------+-----+-------+-------+-----------+\n",
      "only showing top 2 rows\n",
      "\n"
     ]
    },
    {
     "name": "stderr",
     "output_type": "stream",
     "text": [
      "                                                                                \r"
     ]
    }
   ],
   "source": [
    "df.show(2)"
   ]
  },
  {
   "cell_type": "code",
   "execution_count": 12,
   "metadata": {},
   "outputs": [],
   "source": [
    "def encoding_features(feature_input,feature_output,df):\n",
    "    qualification_indexer = StringIndexer(inputCol=feature_input, outputCol=feature_output)#Fits a model to the input dataset with optional parameters.\n",
    "    df = qualification_indexer.fit(df).transform(df)\n",
    "    # df.show()\n",
    "    return df"
   ]
  },
  {
   "cell_type": "code",
   "execution_count": 13,
   "metadata": {},
   "outputs": [],
   "source": [
    "def one_hot_encoder(index,vec,df):\n",
    "    onehotencoder_qualification_vector = OneHotEncoder(inputCol=index, outputCol=vec)\n",
    "    df = onehotencoder_qualification_vector.fit(df).transform(df)\n",
    "    return df "
   ]
  },
  {
   "cell_type": "code",
   "execution_count": 14,
   "metadata": {},
   "outputs": [
    {
     "name": "stderr",
     "output_type": "stream",
     "text": [
      "23/05/05 16:39:36 WARN TaskSetManager: Stage 1 contains a task of very large size (1882 KiB). The maximum recommended task size is 1000 KiB.\n",
      "                                                                                \r"
     ]
    }
   ],
   "source": [
    "df=encoding_features(\"main_category\",\"main_category_index\",df)\n",
    "df =one_hot_encoder(\"main_category_index\",\"main_category_vec\",df)"
   ]
  },
  {
   "cell_type": "code",
   "execution_count": 15,
   "metadata": {},
   "outputs": [
    {
     "name": "stderr",
     "output_type": "stream",
     "text": [
      "23/05/05 16:39:39 WARN TaskSetManager: Stage 4 contains a task of very large size (1882 KiB). The maximum recommended task size is 1000 KiB.\n",
      "                                                                                \r"
     ]
    }
   ],
   "source": [
    "df=encoding_features(\"currency\",\"currency_index\",df)\n",
    "df =one_hot_encoder(\"currency_index\",\"currency_vec\",df)"
   ]
  },
  {
   "cell_type": "code",
   "execution_count": 17,
   "metadata": {},
   "outputs": [],
   "source": [
    "#\n",
    "# ! Not required\n",
    "#df=encoding_features(\"pledged\",\"pledged_index\",df)\n",
    "#df =one_hot_encoder(\"pledged_index\",\"pledged_vec\",df)"
   ]
  },
  {
   "cell_type": "code",
   "execution_count": 18,
   "metadata": {},
   "outputs": [
    {
     "name": "stderr",
     "output_type": "stream",
     "text": [
      "23/05/05 16:39:40 WARN TaskSetManager: Stage 7 contains a task of very large size (1882 KiB). The maximum recommended task size is 1000 KiB.\n"
     ]
    }
   ],
   "source": [
    "df=encoding_features(\"country\",\"country_index\",df)\n",
    "df=one_hot_encoder(\"country_index\",\"country_vec\",df)"
   ]
  },
  {
   "cell_type": "code",
   "execution_count": 19,
   "metadata": {},
   "outputs": [
    {
     "data": {
      "text/plain": [
       "['main_category',\n",
       " 'currency',\n",
       " 'pledged',\n",
       " 'state',\n",
       " 'backers',\n",
       " 'country',\n",
       " 'usd pledged',\n",
       " 'main_category_index',\n",
       " 'main_category_vec',\n",
       " 'currency_index',\n",
       " 'currency_vec',\n",
       " 'country_index',\n",
       " 'country_vec']"
      ]
     },
     "execution_count": 19,
     "metadata": {},
     "output_type": "execute_result"
    }
   ],
   "source": [
    "df.columns"
   ]
  },
  {
   "cell_type": "code",
   "execution_count": 20,
   "metadata": {},
   "outputs": [],
   "source": [
    "assembler = VectorAssembler(inputCols = ['main_category_vec', 'currency_vec' ,'pledged', 'backers' ,'country_vec',\n",
    " 'usd pledged'], outputCol='features')\n"
   ]
  },
  {
   "cell_type": "code",
   "execution_count": 21,
   "metadata": {},
   "outputs": [],
   "source": [
    "output = assembler.transform(df)"
   ]
  },
  {
   "attachments": {},
   "cell_type": "markdown",
   "metadata": {},
   "source": [
    "### ML Models"
   ]
  },
  {
   "cell_type": "code",
   "execution_count": 22,
   "metadata": {},
   "outputs": [],
   "source": [
    "train, val,test = output.randomSplit([0.7, 0.2,0.1])"
   ]
  },
  {
   "attachments": {},
   "cell_type": "markdown",
   "metadata": {},
   "source": [
    "### Logistic Regression"
   ]
  },
  {
   "cell_type": "code",
   "execution_count": 26,
   "metadata": {},
   "outputs": [
    {
     "name": "stderr",
     "output_type": "stream",
     "text": [
      "23/05/05 16:43:58 WARN TaskSetManager: Stage 60 contains a task of very large size (1882 KiB). The maximum recommended task size is 1000 KiB.\n",
      "23/05/05 16:43:59 WARN TaskSetManager: Stage 62 contains a task of very large size (1882 KiB). The maximum recommended task size is 1000 KiB.\n",
      "23/05/05 16:44:01 WARN TaskSetManager: Stage 64 contains a task of very large size (1882 KiB). The maximum recommended task size is 1000 KiB.\n",
      "23/05/05 16:44:01 WARN TaskSetManager: Stage 66 contains a task of very large size (1882 KiB). The maximum recommended task size is 1000 KiB.\n",
      "23/05/05 16:44:01 WARN TaskSetManager: Stage 68 contains a task of very large size (1882 KiB). The maximum recommended task size is 1000 KiB.\n",
      "23/05/05 16:44:01 WARN TaskSetManager: Stage 70 contains a task of very large size (1882 KiB). The maximum recommended task size is 1000 KiB.\n",
      "23/05/05 16:44:01 WARN TaskSetManager: Stage 72 contains a task of very large size (1882 KiB). The maximum recommended task size is 1000 KiB.\n",
      "23/05/05 16:44:01 WARN TaskSetManager: Stage 74 contains a task of very large size (1882 KiB). The maximum recommended task size is 1000 KiB.\n",
      "23/05/05 16:44:01 WARN TaskSetManager: Stage 76 contains a task of very large size (1882 KiB). The maximum recommended task size is 1000 KiB.\n",
      "23/05/05 16:44:01 WARN TaskSetManager: Stage 78 contains a task of very large size (1882 KiB). The maximum recommended task size is 1000 KiB.\n",
      "23/05/05 16:44:01 WARN TaskSetManager: Stage 80 contains a task of very large size (1882 KiB). The maximum recommended task size is 1000 KiB.\n",
      "23/05/05 16:44:02 WARN TaskSetManager: Stage 82 contains a task of very large size (1882 KiB). The maximum recommended task size is 1000 KiB.\n",
      "23/05/05 16:44:02 WARN TaskSetManager: Stage 84 contains a task of very large size (1882 KiB). The maximum recommended task size is 1000 KiB.\n",
      "23/05/05 16:44:02 WARN TaskSetManager: Stage 86 contains a task of very large size (1882 KiB). The maximum recommended task size is 1000 KiB.\n"
     ]
    }
   ],
   "source": [
    "lr = LogisticRegression(labelCol=\"state\",maxIter=10)\n",
    "lrn = lr.fit(train)"
   ]
  },
  {
   "cell_type": "code",
   "execution_count": 27,
   "metadata": {},
   "outputs": [
    {
     "name": "stderr",
     "output_type": "stream",
     "text": [
      "23/05/05 16:44:05 WARN TaskSetManager: Stage 88 contains a task of very large size (1882 KiB). The maximum recommended task size is 1000 KiB.\n",
      "                                                                                \r"
     ]
    },
    {
     "name": "stdout",
     "output_type": "stream",
     "text": [
      "0.7698174512180909\n"
     ]
    }
   ],
   "source": [
    "predictions = lrn.transform(val)\n",
    "\n",
    "eval = BinaryClassificationEvaluator(rawPredictionCol = \"prediction\", labelCol = \"state\")\n",
    "auc = eval.evaluate(predictions)\n",
    "print(auc)"
   ]
  },
  {
   "cell_type": "code",
   "execution_count": 28,
   "metadata": {},
   "outputs": [
    {
     "name": "stderr",
     "output_type": "stream",
     "text": [
      "23/05/05 16:44:08 WARN TaskSetManager: Stage 99 contains a task of very large size (1882 KiB). The maximum recommended task size is 1000 KiB.\n",
      "                                                                                \r"
     ]
    },
    {
     "name": "stdout",
     "output_type": "stream",
     "text": [
      "0.7702668233634103\n"
     ]
    }
   ],
   "source": [
    "predictions = lrn.transform(test)\n",
    "\n",
    "eval = BinaryClassificationEvaluator(rawPredictionCol = \"prediction\", labelCol = \"state\")\n",
    "auc = eval.evaluate(predictions)\n",
    "print(auc)"
   ]
  },
  {
   "attachments": {},
   "cell_type": "markdown",
   "metadata": {},
   "source": [
    "### Linear SVM"
   ]
  },
  {
   "cell_type": "code",
   "execution_count": 29,
   "metadata": {},
   "outputs": [
    {
     "name": "stderr",
     "output_type": "stream",
     "text": [
      "23/05/05 16:45:18 WARN TaskSetManager: Stage 110 contains a task of very large size (1882 KiB). The maximum recommended task size is 1000 KiB.\n",
      "23/05/05 16:45:20 WARN TaskSetManager: Stage 112 contains a task of very large size (1882 KiB). The maximum recommended task size is 1000 KiB.\n",
      "23/05/05 16:45:22 WARN TaskSetManager: Stage 114 contains a task of very large size (1882 KiB). The maximum recommended task size is 1000 KiB.\n",
      "23/05/05 16:45:22 WARN TaskSetManager: Stage 116 contains a task of very large size (1882 KiB). The maximum recommended task size is 1000 KiB.\n",
      "23/05/05 16:45:22 WARN TaskSetManager: Stage 118 contains a task of very large size (1882 KiB). The maximum recommended task size is 1000 KiB.\n",
      "23/05/05 16:45:22 WARN TaskSetManager: Stage 120 contains a task of very large size (1882 KiB). The maximum recommended task size is 1000 KiB.\n",
      "23/05/05 16:45:22 WARN TaskSetManager: Stage 122 contains a task of very large size (1882 KiB). The maximum recommended task size is 1000 KiB.\n",
      "23/05/05 16:45:22 WARN TaskSetManager: Stage 124 contains a task of very large size (1882 KiB). The maximum recommended task size is 1000 KiB.\n",
      "23/05/05 16:45:22 WARN TaskSetManager: Stage 126 contains a task of very large size (1882 KiB). The maximum recommended task size is 1000 KiB.\n",
      "23/05/05 16:45:23 WARN TaskSetManager: Stage 128 contains a task of very large size (1882 KiB). The maximum recommended task size is 1000 KiB.\n",
      "23/05/05 16:45:23 WARN TaskSetManager: Stage 130 contains a task of very large size (1882 KiB). The maximum recommended task size is 1000 KiB.\n",
      "23/05/05 16:45:23 WARN TaskSetManager: Stage 132 contains a task of very large size (1882 KiB). The maximum recommended task size is 1000 KiB.\n",
      "23/05/05 16:45:23 WARN TaskSetManager: Stage 134 contains a task of very large size (1882 KiB). The maximum recommended task size is 1000 KiB.\n",
      "23/05/05 16:45:23 WARN TaskSetManager: Stage 136 contains a task of very large size (1882 KiB). The maximum recommended task size is 1000 KiB.\n",
      "23/05/05 16:45:23 WARN TaskSetManager: Stage 138 contains a task of very large size (1882 KiB). The maximum recommended task size is 1000 KiB.\n",
      "23/05/05 16:45:23 WARN TaskSetManager: Stage 140 contains a task of very large size (1882 KiB). The maximum recommended task size is 1000 KiB.\n",
      "23/05/05 16:45:23 WARN TaskSetManager: Stage 142 contains a task of very large size (1882 KiB). The maximum recommended task size is 1000 KiB.\n",
      "23/05/05 16:45:23 WARN TaskSetManager: Stage 144 contains a task of very large size (1882 KiB). The maximum recommended task size is 1000 KiB.\n",
      "23/05/05 16:45:23 WARN TaskSetManager: Stage 146 contains a task of very large size (1882 KiB). The maximum recommended task size is 1000 KiB.\n",
      "23/05/05 16:45:23 WARN TaskSetManager: Stage 148 contains a task of very large size (1882 KiB). The maximum recommended task size is 1000 KiB.\n",
      "23/05/05 16:45:24 WARN TaskSetManager: Stage 150 contains a task of very large size (1882 KiB). The maximum recommended task size is 1000 KiB.\n",
      "23/05/05 16:45:24 WARN TaskSetManager: Stage 152 contains a task of very large size (1882 KiB). The maximum recommended task size is 1000 KiB.\n",
      "23/05/05 16:45:24 WARN TaskSetManager: Stage 154 contains a task of very large size (1882 KiB). The maximum recommended task size is 1000 KiB.\n",
      "23/05/05 16:45:24 WARN TaskSetManager: Stage 156 contains a task of very large size (1882 KiB). The maximum recommended task size is 1000 KiB.\n",
      "23/05/05 16:45:24 WARN TaskSetManager: Stage 158 contains a task of very large size (1882 KiB). The maximum recommended task size is 1000 KiB.\n",
      "23/05/05 16:45:24 WARN TaskSetManager: Stage 160 contains a task of very large size (1882 KiB). The maximum recommended task size is 1000 KiB.\n",
      "23/05/05 16:45:24 WARN TaskSetManager: Stage 162 contains a task of very large size (1882 KiB). The maximum recommended task size is 1000 KiB.\n",
      "23/05/05 16:45:24 WARN TaskSetManager: Stage 164 contains a task of very large size (1882 KiB). The maximum recommended task size is 1000 KiB.\n"
     ]
    }
   ],
   "source": [
    "lsvc = LinearSVC(maxIter=10, regParam=0.1,labelCol=\"state\")\n",
    "lsvcModel = lsvc.fit(train)"
   ]
  },
  {
   "cell_type": "code",
   "execution_count": 30,
   "metadata": {},
   "outputs": [
    {
     "name": "stderr",
     "output_type": "stream",
     "text": [
      "23/05/05 16:45:45 WARN TaskSetManager: Stage 166 contains a task of very large size (1882 KiB). The maximum recommended task size is 1000 KiB.\n",
      "[Stage 166:>                                                      (0 + 12) / 12]\r"
     ]
    },
    {
     "name": "stdout",
     "output_type": "stream",
     "text": [
      "0.5842423322045236\n"
     ]
    },
    {
     "name": "stderr",
     "output_type": "stream",
     "text": [
      "                                                                                \r"
     ]
    }
   ],
   "source": [
    "predictions = lsvcModel.transform(val)\n",
    "eval = BinaryClassificationEvaluator(rawPredictionCol = \"prediction\", labelCol = \"state\")\n",
    "auc = eval.evaluate(predictions)\n",
    "print(auc)"
   ]
  },
  {
   "cell_type": "code",
   "execution_count": 31,
   "metadata": {},
   "outputs": [
    {
     "name": "stderr",
     "output_type": "stream",
     "text": [
      "23/05/05 16:45:49 WARN TaskSetManager: Stage 177 contains a task of very large size (1882 KiB). The maximum recommended task size is 1000 KiB.\n",
      "[Stage 177:>                                                      (0 + 12) / 12]\r"
     ]
    },
    {
     "name": "stdout",
     "output_type": "stream",
     "text": [
      "0.582565673494293\n"
     ]
    },
    {
     "name": "stderr",
     "output_type": "stream",
     "text": [
      "                                                                                \r"
     ]
    }
   ],
   "source": [
    "predictions = lsvcModel.transform(test)\n",
    "eval = BinaryClassificationEvaluator(rawPredictionCol = \"prediction\", labelCol = \"state\")\n",
    "auc = eval.evaluate(predictions)\n",
    "print(auc)"
   ]
  },
  {
   "attachments": {},
   "cell_type": "markdown",
   "metadata": {},
   "source": [
    "### Apriori  Algorithm"
   ]
  },
  {
   "cell_type": "code",
   "execution_count": 46,
   "metadata": {},
   "outputs": [
    {
     "data": {
      "text/plain": [
       "['main_category',\n",
       " 'currency',\n",
       " 'pledged',\n",
       " 'state',\n",
       " 'backers',\n",
       " 'country',\n",
       " 'usd pledged',\n",
       " 'main_category_index',\n",
       " 'main_category_vec',\n",
       " 'currency_index',\n",
       " 'currency_vec',\n",
       " 'country_index',\n",
       " 'country_vec',\n",
       " 'features']"
      ]
     },
     "execution_count": 46,
     "metadata": {},
     "output_type": "execute_result"
    }
   ],
   "source": [
    "output.columns"
   ]
  },
  {
   "cell_type": "code",
   "execution_count": 61,
   "metadata": {},
   "outputs": [
    {
     "name": "stdout",
     "output_type": "stream",
     "text": [
      "0.5476275471772265\n",
      "1.0\n"
     ]
    }
   ],
   "source": [
    "# Now for the apriori algorithm\n",
    "# Will use the new_df dataframe\n",
    "\n",
    "# First, some minor data cleaning\n",
    "print(len(new_df['name'].unique()) / len(new_df['name']))\n",
    "# There are duplicate rows in the dataframe, use the name column to remove them\n",
    "new_df.drop_duplicates(subset =\"name\", keep = False, inplace = True)\n",
    "print(len(new_df['name'].unique()) / len(new_df['name']))"
   ]
  },
  {
   "cell_type": "code",
   "execution_count": 62,
   "metadata": {},
   "outputs": [
    {
     "data": {
      "text/html": [
       "<div>\n",
       "<style scoped>\n",
       "    .dataframe tbody tr th:only-of-type {\n",
       "        vertical-align: middle;\n",
       "    }\n",
       "\n",
       "    .dataframe tbody tr th {\n",
       "        vertical-align: top;\n",
       "    }\n",
       "\n",
       "    .dataframe thead th {\n",
       "        text-align: right;\n",
       "    }\n",
       "</style>\n",
       "<table border=\"1\" class=\"dataframe\">\n",
       "  <thead>\n",
       "    <tr style=\"text-align: right;\">\n",
       "      <th></th>\n",
       "      <th>ID</th>\n",
       "      <th>name</th>\n",
       "      <th>category</th>\n",
       "      <th>main_category</th>\n",
       "      <th>currency</th>\n",
       "      <th>deadline</th>\n",
       "      <th>goal</th>\n",
       "      <th>launched</th>\n",
       "      <th>pledged</th>\n",
       "      <th>state</th>\n",
       "      <th>backers</th>\n",
       "      <th>country</th>\n",
       "      <th>usd pledged</th>\n",
       "    </tr>\n",
       "  </thead>\n",
       "  <tbody>\n",
       "    <tr>\n",
       "      <th>25</th>\n",
       "      <td>1000235643</td>\n",
       "      <td>HIIT Bottle�</td>\n",
       "      <td>Drinks</td>\n",
       "      <td>Food</td>\n",
       "      <td>USD</td>\n",
       "      <td>2015-04-27 19:33:08</td>\n",
       "      <td>15000.0</td>\n",
       "      <td>2015-03-13 18:33:08</td>\n",
       "      <td>124998.0</td>\n",
       "      <td>1</td>\n",
       "      <td>2784.0</td>\n",
       "      <td>US</td>\n",
       "      <td>124998.0</td>\n",
       "    </tr>\n",
       "    <tr>\n",
       "      <th>44</th>\n",
       "      <td>1000519001</td>\n",
       "      <td>Wordwright: re�de�fin�ing word play</td>\n",
       "      <td>Tabletop Games</td>\n",
       "      <td>Games</td>\n",
       "      <td>USD</td>\n",
       "      <td>2015-12-29 02:00:00</td>\n",
       "      <td>2000.0</td>\n",
       "      <td>2015-11-21 14:12:27</td>\n",
       "      <td>14794.0</td>\n",
       "      <td>1</td>\n",
       "      <td>624.0</td>\n",
       "      <td>US</td>\n",
       "      <td>14794.0</td>\n",
       "    </tr>\n",
       "    <tr>\n",
       "      <th>116</th>\n",
       "      <td>1001484182</td>\n",
       "      <td>Daweyu Hills � Crop to Cup</td>\n",
       "      <td>Drinks</td>\n",
       "      <td>Food</td>\n",
       "      <td>USD</td>\n",
       "      <td>2015-10-15 21:01:47</td>\n",
       "      <td>25000.0</td>\n",
       "      <td>2015-09-15 21:01:47</td>\n",
       "      <td>25816.0</td>\n",
       "      <td>1</td>\n",
       "      <td>172.0</td>\n",
       "      <td>US</td>\n",
       "      <td>25816.0</td>\n",
       "    </tr>\n",
       "    <tr>\n",
       "      <th>160</th>\n",
       "      <td>1002234028</td>\n",
       "      <td>�mp:dance / amiti perry + company</td>\n",
       "      <td>Dance</td>\n",
       "      <td>Dance</td>\n",
       "      <td>USD</td>\n",
       "      <td>2011-05-30 05:59:00</td>\n",
       "      <td>3500.0</td>\n",
       "      <td>2011-05-18 20:06:41</td>\n",
       "      <td>3520.0</td>\n",
       "      <td>1</td>\n",
       "      <td>30.0</td>\n",
       "      <td>US</td>\n",
       "      <td>3520.0</td>\n",
       "    </tr>\n",
       "    <tr>\n",
       "      <th>164</th>\n",
       "      <td>1002287054</td>\n",
       "      <td>Michale Graves �Vagabond Acoustic� Extremely L...</td>\n",
       "      <td>Rock</td>\n",
       "      <td>Music</td>\n",
       "      <td>USD</td>\n",
       "      <td>2013-05-27 01:54:34</td>\n",
       "      <td>2500.0</td>\n",
       "      <td>2013-05-06 01:54:34</td>\n",
       "      <td>12413.0</td>\n",
       "      <td>1</td>\n",
       "      <td>240.0</td>\n",
       "      <td>US</td>\n",
       "      <td>12413.0</td>\n",
       "    </tr>\n",
       "  </tbody>\n",
       "</table>\n",
       "</div>"
      ],
      "text/plain": [
       "             ID                                               name  \\\n",
       "25   1000235643                                       HIIT Bottle�   \n",
       "44   1000519001                Wordwright: re�de�fin�ing word play   \n",
       "116  1001484182                         Daweyu Hills � Crop to Cup   \n",
       "160  1002234028                  �mp:dance / amiti perry + company   \n",
       "164  1002287054  Michale Graves �Vagabond Acoustic� Extremely L...   \n",
       "\n",
       "           category main_category currency             deadline     goal  \\\n",
       "25           Drinks          Food      USD  2015-04-27 19:33:08  15000.0   \n",
       "44   Tabletop Games         Games      USD  2015-12-29 02:00:00   2000.0   \n",
       "116          Drinks          Food      USD  2015-10-15 21:01:47  25000.0   \n",
       "160           Dance         Dance      USD  2011-05-30 05:59:00   3500.0   \n",
       "164            Rock         Music      USD  2013-05-27 01:54:34   2500.0   \n",
       "\n",
       "                launched   pledged  state  backers country  usd pledged  \n",
       "25   2015-03-13 18:33:08  124998.0      1   2784.0      US     124998.0  \n",
       "44   2015-11-21 14:12:27   14794.0      1    624.0      US      14794.0  \n",
       "116  2015-09-15 21:01:47   25816.0      1    172.0      US      25816.0  \n",
       "160  2011-05-18 20:06:41    3520.0      1     30.0      US       3520.0  \n",
       "164  2013-05-06 01:54:34   12413.0      1    240.0      US      12413.0  "
      ]
     },
     "execution_count": 62,
     "metadata": {},
     "output_type": "execute_result"
    }
   ],
   "source": [
    "new_df.head()"
   ]
  },
  {
   "cell_type": "code",
   "execution_count": 49,
   "metadata": {},
   "outputs": [],
   "source": [
    "association_rules = apriori(records, min_support=0.0045, min_confidence=0.2, min_lift=3, min_length=2)\n",
    "association_results = list(association_rules)"
   ]
  },
  {
   "cell_type": "code",
   "execution_count": 51,
   "metadata": {},
   "outputs": [
    {
     "name": "stdout",
     "output_type": "stream",
     "text": [
      "4426\n"
     ]
    }
   ],
   "source": [
    "print(len(association_results))"
   ]
  },
  {
   "cell_type": "code",
   "execution_count": 54,
   "metadata": {},
   "outputs": [
    {
     "data": {
      "text/plain": [
       "RelationRecord(items=frozenset({' ', 's'}), support=0.07692307692307693, ordered_statistics=[OrderedStatistic(items_base=frozenset({' '}), items_add=frozenset({'s'}), confidence=1.0, lift=4.333333333333333), OrderedStatistic(items_base=frozenset({'s'}), items_add=frozenset({' '}), confidence=0.3333333333333333, lift=4.333333333333333)])"
      ]
     },
     "execution_count": 54,
     "metadata": {},
     "output_type": "execute_result"
    }
   ],
   "source": [
    "for item in association_rules:\n",
    "\n",
    "    # first index of the inner list\n",
    "    # Contains base item and add item\n",
    "    pair = item[0] \n",
    "    items = [x for x in pair]\n",
    "    print(\"Rule: \" + items[0] + \" -> \" + items[1])\n",
    "\n",
    "    #second index of the inner list\n",
    "    print(\"Support: \" + str(item[1]))\n",
    "\n",
    "    #third index of the list located at 0th\n",
    "    #of the third index of the inner list\n",
    "\n",
    "    print(\"Confidence: \" + str(item[2][0][2]))\n",
    "    print(\"Lift: \" + str(item[2][0][3]))\n",
    "    print(\"=====================================\") "
   ]
  }
 ],
 "metadata": {
  "kernelspec": {
   "display_name": "Python 3",
   "language": "python",
   "name": "python3"
  },
  "language_info": {
   "codemirror_mode": {
    "name": "ipython",
    "version": 3
   },
   "file_extension": ".py",
   "mimetype": "text/x-python",
   "name": "python",
   "nbconvert_exporter": "python",
   "pygments_lexer": "ipython3",
   "version": "3.8.5"
  },
  "orig_nbformat": 4,
  "vscode": {
   "interpreter": {
    "hash": "0eefc6a63c6d719296cee5685f23fefb92aa63e2e9fdaf52ddbdc4ce266c7bb3"
   }
  }
 },
 "nbformat": 4,
 "nbformat_minor": 2
}

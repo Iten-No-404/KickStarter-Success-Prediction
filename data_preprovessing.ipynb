{
 "cells": [
  {
   "cell_type": "code",
   "execution_count": 168,
   "metadata": {},
   "outputs": [],
   "source": [
    "import numpy as np\n",
    "import pandas as pd"
   ]
  },
  {
   "cell_type": "code",
   "execution_count": 169,
   "metadata": {},
   "outputs": [],
   "source": [
    "def read_data_set(file_path,encode='cp850'):\n",
    "    df = pd.read_csv(file_path,encoding=encode)\n",
    "    return df"
   ]
  },
  {
   "attachments": {},
   "cell_type": "markdown",
   "metadata": {},
   "source": [
    "### Read Data Set"
   ]
  },
  {
   "cell_type": "code",
   "execution_count": 170,
   "metadata": {},
   "outputs": [
    {
     "name": "stderr",
     "output_type": "stream",
     "text": [
      "C:\\Users\\rorod\\AppData\\Local\\Temp\\ipykernel_10644\\474565683.py:2: DtypeWarning: Columns (13,14,15) have mixed types. Specify dtype option on import or set low_memory=False.\n",
      "  df = pd.read_csv(file_path,encoding=encode)\n"
     ]
    }
   ],
   "source": [
    "df_data_set_1=read_data_set(\"D:/Fourth_Year/Second_Term/BD/KickStarter-Success-Prediction/ks-projects-201612.csv\")\n",
    "df_data_set_2=read_data_set(\"D:/Fourth_Year/Second_Term/BD/KickStarter-Success-Prediction/ks-projects-201801.csv\")"
   ]
  },
  {
   "attachments": {},
   "cell_type": "markdown",
   "metadata": {},
   "source": [
    "### Remove Repeated Columns and rename them"
   ]
  },
  {
   "cell_type": "code",
   "execution_count": 171,
   "metadata": {},
   "outputs": [],
   "source": [
    "def remove_unnamed_columns(df):\n",
    "    df = df.loc[:, ~df.columns.str.contains('^Unnamed')]\n",
    "    return df"
   ]
  },
  {
   "cell_type": "code",
   "execution_count": 172,
   "metadata": {},
   "outputs": [],
   "source": [
    "def remove_repeated_columns(df,column):\n",
    "    df=df.drop([column], axis=1)\n",
    "    return df"
   ]
  },
  {
   "cell_type": "code",
   "execution_count": 173,
   "metadata": {},
   "outputs": [],
   "source": [
    "def rename_columns_df(df):\n",
    "    columns=list(df_data_set_1.columns)\n",
    "    for column in columns:\n",
    "        df.rename(columns = { column:column[:-1]}, inplace = True)\n",
    "    return df\n"
   ]
  },
  {
   "cell_type": "code",
   "execution_count": 174,
   "metadata": {},
   "outputs": [],
   "source": [
    "df_data_set_1=remove_unnamed_columns(df_data_set_1)"
   ]
  },
  {
   "cell_type": "code",
   "execution_count": 175,
   "metadata": {},
   "outputs": [],
   "source": [
    "df_data_set_2=remove_repeated_columns(df_data_set_2,\"usd_pledged_real\")\n",
    "df_data_set_2=remove_repeated_columns(df_data_set_2,\"usd_goal_real\")"
   ]
  },
  {
   "cell_type": "code",
   "execution_count": 176,
   "metadata": {},
   "outputs": [],
   "source": [
    "df_data_set_1=rename_columns_df(df_data_set_1)"
   ]
  },
  {
   "attachments": {},
   "cell_type": "markdown",
   "metadata": {},
   "source": [
    "### Merge Data Set"
   ]
  },
  {
   "cell_type": "code",
   "execution_count": 177,
   "metadata": {},
   "outputs": [],
   "source": [
    "frames = [df_data_set_1, df_data_set_2]\n",
    "df = pd.concat(frames)"
   ]
  },
  {
   "attachments": {},
   "cell_type": "markdown",
   "metadata": {},
   "source": [
    "### Preprocessing Data Set"
   ]
  },
  {
   "cell_type": "code",
   "execution_count": 179,
   "metadata": {},
   "outputs": [
    {
     "data": {
      "text/plain": [
       "ID               0.000000\n",
       "name             0.000011\n",
       "category         0.000007\n",
       "main_category    0.000000\n",
       "currency         0.000000\n",
       "deadline         0.000000\n",
       "goal             0.000000\n",
       "launched         0.000000\n",
       "pledged          0.000000\n",
       "state            0.000000\n",
       "backers          0.000000\n",
       "country          0.000000\n",
       "usd pledged      0.010801\n",
       "dtype: float64"
      ]
     },
     "execution_count": 179,
     "metadata": {},
     "output_type": "execute_result"
    }
   ],
   "source": [
    "#get null percentage\n",
    "df.isnull().sum()/df.shape[0]"
   ]
  },
  {
   "cell_type": "code",
   "execution_count": 181,
   "metadata": {},
   "outputs": [],
   "source": [
    "# drop all nulls remaining in name & category\n",
    "df = df.dropna(axis=0, subset=['name', 'category'])"
   ]
  },
  {
   "cell_type": "code",
   "execution_count": 182,
   "metadata": {},
   "outputs": [
    {
     "name": "stderr",
     "output_type": "stream",
     "text": [
      "C:\\Users\\rorod\\AppData\\Local\\Temp\\ipykernel_10644\\2040241626.py:2: SettingWithCopyWarning: \n",
      "A value is trying to be set on a copy of a slice from a DataFrame.\n",
      "Try using .loc[row_indexer,col_indexer] = value instead\n",
      "\n",
      "See the caveats in the documentation: https://pandas.pydata.org/pandas-docs/stable/user_guide/indexing.html#returning-a-view-versus-a-copy\n",
      "  df.loc[:,'usd pledged'] = pd.to_numeric(df['usd pledged'], downcast='float', errors='coerce')\n",
      "C:\\Users\\rorod\\AppData\\Local\\Temp\\ipykernel_10644\\2040241626.py:2: FutureWarning: In a future version, `df.iloc[:, i] = newvals` will attempt to set the values inplace instead of always setting a new array. To retain the old behavior, use either `df[df.columns[i]] = newvals` or, if columns are non-unique, `df.isetitem(i, newvals)`\n",
      "  df.loc[:,'usd pledged'] = pd.to_numeric(df['usd pledged'], downcast='float', errors='coerce')\n",
      "C:\\Users\\rorod\\AppData\\Local\\Temp\\ipykernel_10644\\2040241626.py:4: SettingWithCopyWarning: \n",
      "A value is trying to be set on a copy of a slice from a DataFrame.\n",
      "Try using .loc[row_indexer,col_indexer] = value instead\n",
      "\n",
      "See the caveats in the documentation: https://pandas.pydata.org/pandas-docs/stable/user_guide/indexing.html#returning-a-view-versus-a-copy\n",
      "  df['goal'] = pd.to_numeric(df.goal, downcast='float', errors='coerce')\n"
     ]
    }
   ],
   "source": [
    "# convert usd pledged to float values\n",
    "df.loc[:,'usd pledged'] = pd.to_numeric(df['usd pledged'], downcast='float', errors='coerce')\n",
    "# convert goal to float\n",
    "df['goal'] = pd.to_numeric(df.goal, downcast='float', errors='coerce')"
   ]
  },
  {
   "cell_type": "code",
   "execution_count": 184,
   "metadata": {},
   "outputs": [],
   "source": [
    "# fill all nan with 0\n",
    "df = df.fillna(value=0.0)"
   ]
  },
  {
   "cell_type": "code",
   "execution_count": 187,
   "metadata": {},
   "outputs": [
    {
     "data": {
      "text/plain": [
       "N,0\"    3797\n",
       "N,\"0    3790\n",
       "0        102\n",
       "1         72\n",
       "3         45\n",
       "        ... \n",
       "213        1\n",
       "126        1\n",
       "582        1\n",
       "26         1\n",
       "43         1\n",
       "Name: country, Length: 142, dtype: int64"
      ]
     },
     "execution_count": 187,
     "metadata": {},
     "output_type": "execute_result"
    }
   ],
   "source": [
    "# check nan in country\n",
    "df[~df.country.str.contains('^[A-Z]{2}$', case=False)].country.value_counts()"
   ]
  },
  {
   "cell_type": "code",
   "execution_count": 188,
   "metadata": {},
   "outputs": [],
   "source": [
    "# Replace null countries with None\n",
    "replace = df[~df.country.str.contains('^[A-Z]{2}$', case=False)].country.unique().tolist()\n",
    "df.loc[:,'country'] = df.country.replace(to_replace=replace, value='None')"
   ]
  },
  {
   "cell_type": "code",
   "execution_count": 192,
   "metadata": {},
   "outputs": [
    {
     "name": "stderr",
     "output_type": "stream",
     "text": [
      "C:\\Users\\rorod\\AppData\\Local\\Temp\\ipykernel_10644\\1622262248.py:1: FutureWarning: In a future version, `df.iloc[:, i] = newvals` will attempt to set the values inplace instead of always setting a new array. To retain the old behavior, use either `df[df.columns[i]] = newvals` or, if columns are non-unique, `df.isetitem(i, newvals)`\n",
      "  df.loc[:,'backers'] = pd.to_numeric(df.backers, errors='coerce', downcast='integer')\n"
     ]
    }
   ],
   "source": [
    "df.loc[:,'backers'] = pd.to_numeric(df.backers, errors='coerce', downcast='integer')"
   ]
  },
  {
   "cell_type": "code",
   "execution_count": 194,
   "metadata": {},
   "outputs": [],
   "source": [
    "df = df.dropna(axis=0, subset=['backers'])"
   ]
  }
 ],
 "metadata": {
  "kernelspec": {
   "display_name": "Python 3",
   "language": "python",
   "name": "python3"
  },
  "language_info": {
   "codemirror_mode": {
    "name": "ipython",
    "version": 3
   },
   "file_extension": ".py",
   "mimetype": "text/x-python",
   "name": "python",
   "nbconvert_exporter": "python",
   "pygments_lexer": "ipython3",
   "version": "3.9.15"
  },
  "orig_nbformat": 4
 },
 "nbformat": 4,
 "nbformat_minor": 2
}

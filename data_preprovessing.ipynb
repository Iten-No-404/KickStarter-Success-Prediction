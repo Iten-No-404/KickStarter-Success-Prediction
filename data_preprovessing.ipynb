{
 "cells": [
  {
   "cell_type": "code",
   "execution_count": 3,
   "metadata": {},
   "outputs": [],
   "source": [
    "import numpy as np\n",
    "import pandas as pd\n",
    "\n",
    "from sklearn.model_selection import train_test_split\n",
    "from pyspark.ml.classification import LogisticRegression ,RandomForestClassifier ,LinearSVC\n",
    "from pyspark.sql import SparkSession\n",
    "from pyspark.ml.evaluation import BinaryClassificationEvaluator \n",
    "from pyspark.mllib.evaluation import BinaryClassificationMetrics\n",
    "from pyspark.ml.feature import VectorAssembler\n",
    "from pyspark.sql import SQLContext\n",
    "from pyspark import SparkContext\n",
    "from pyspark.ml.feature import OneHotEncoder\n",
    "from pyspark.ml.feature import StringIndexer\n",
    "\n",
    "from pyspark import SparkConf\n",
    "# from apyori import apriori"
   ]
  },
  {
   "attachments": {},
   "cell_type": "markdown",
   "metadata": {},
   "source": [
    "###  Sparks Integration"
   ]
  },
  {
   "cell_type": "code",
   "execution_count": 4,
   "metadata": {},
   "outputs": [
    {
     "name": "stderr",
     "output_type": "stream",
     "text": [
      "c:\\Users\\rorod\\miniforge3\\envs\\new_python_nlp_2\\lib\\site-packages\\pyspark\\context.py:317: FutureWarning: Python 3.7 support is deprecated in Spark 3.4.\n",
      "  warnings.warn(\"Python 3.7 support is deprecated in Spark 3.4.\", FutureWarning)\n"
     ]
    }
   ],
   "source": [
    "# from pyspark.sql import SparkSession\n",
    "# run this file once\n",
    "spark_data=SparkSession.builder\\\n",
    "    .master(\"local[*]\")\\\n",
    "    .appName(\"WordCount\")\\\n",
    "    .getOrCreate()\n",
    "sc=spark_data.sparkContext\n"
   ]
  },
  {
   "cell_type": "code",
   "execution_count": 5,
   "metadata": {},
   "outputs": [],
   "source": [
    "def read_data_set(file_path,encode='cp850'):\n",
    "    df= spark_data.read.option('header','true').csv( file_path)\n",
    "    return df"
   ]
  },
  {
   "attachments": {},
   "cell_type": "markdown",
   "metadata": {},
   "source": [
    "### Read Data Set"
   ]
  },
  {
   "cell_type": "code",
   "execution_count": 6,
   "metadata": {},
   "outputs": [],
   "source": [
    "df_data_set_1=read_data_set(\"D:/Fourth_Year/Second_Term/BD/KickStarter-Success-Prediction/ks-projects-201612.csv\")\n",
    "df_data_set_2=read_data_set(\"D:/Fourth_Year/Second_Term/BD/KickStarter-Success-Prediction/ks-projects-201801.csv\")"
   ]
  },
  {
   "cell_type": "code",
   "execution_count": 7,
   "metadata": {},
   "outputs": [
    {
     "name": "stdout",
     "output_type": "stream",
     "text": [
      "+----------+--------------------+--------------+--------------+---------+-------------------+-----+-------------------+--------+----------+--------+--------+------------+----+----+----+----+\n",
      "|       ID |               name |     category |main_category |currency |          deadline |goal |          launched |pledged |    state |backers |country |usd pledged |_c13|_c14|_c15|_c16|\n",
      "+----------+--------------------+--------------+--------------+---------+-------------------+-----+-------------------+--------+----------+--------+--------+------------+----+----+----+----+\n",
      "|1000002330|The Songs of Adel...|        Poetry|    Publishing|      GBP|2015-10-09 11:36:00| 1000|2015-08-11 12:12:28|       0|    failed|       0|      GB|           0|null|null|null|null|\n",
      "|1000004038|      Where is Hank?|Narrative Film|  Film & Video|      USD|2013-02-26 00:20:50|45000|2013-01-12 00:20:50|     220|    failed|       3|      US|         220|null|null|null|null|\n",
      "|1000007540|ToshiCapital Reko...|         Music|         Music|      USD|2012-04-16 04:24:11| 5000|2012-03-17 03:24:11|       1|    failed|       1|      US|           1|null|null|null|null|\n",
      "|1000011046|Community Film Pr...|  Film & Video|  Film & Video|      USD|2015-08-29 01:00:00|19500|2015-07-04 08:35:03|    1283|  canceled|      14|      US|        1283|null|null|null|null|\n",
      "|1000014025|Monarch Espresso Bar|   Restaurants|          Food|      USD|2016-04-01 13:38:27|50000|2016-02-26 13:38:27|   52375|successful|     224|      US|       52375|null|null|null|null|\n",
      "+----------+--------------------+--------------+--------------+---------+-------------------+-----+-------------------+--------+----------+--------+--------+------------+----+----+----+----+\n",
      "only showing top 5 rows\n",
      "\n"
     ]
    }
   ],
   "source": [
    "df_data_set_1.show(5)"
   ]
  },
  {
   "cell_type": "code",
   "execution_count": 8,
   "metadata": {},
   "outputs": [
    {
     "name": "stdout",
     "output_type": "stream",
     "text": [
      "+----------+--------------------+--------------+-------------+--------+----------+--------+-------------------+-------+--------+-------+-------+-----------+----------------+-------------+\n",
      "|        ID|                name|      category|main_category|currency|  deadline|    goal|           launched|pledged|   state|backers|country|usd pledged|usd_pledged_real|usd_goal_real|\n",
      "+----------+--------------------+--------------+-------------+--------+----------+--------+-------------------+-------+--------+-------+-------+-----------+----------------+-------------+\n",
      "|1000002330|The Songs of Adel...|        Poetry|   Publishing|     GBP|2015-10-09| 1000.00|2015-08-11 12:12:28|   0.00|  failed|      0|     GB|       0.00|            0.00|      1533.95|\n",
      "|1000003930|Greeting From Ear...|Narrative Film| Film & Video|     USD|2017-11-01|30000.00|2017-09-02 04:43:57|2421.00|  failed|     15|     US|     100.00|         2421.00|     30000.00|\n",
      "|1000004038|      Where is Hank?|Narrative Film| Film & Video|     USD|2013-02-26|45000.00|2013-01-12 00:20:50| 220.00|  failed|      3|     US|     220.00|          220.00|     45000.00|\n",
      "|1000007540|ToshiCapital Reko...|         Music|        Music|     USD|2012-04-16| 5000.00|2012-03-17 03:24:11|   1.00|  failed|      1|     US|       1.00|            1.00|      5000.00|\n",
      "|1000011046|Community Film Pr...|  Film & Video| Film & Video|     USD|2015-08-29|19500.00|2015-07-04 08:35:03|1283.00|canceled|     14|     US|    1283.00|         1283.00|     19500.00|\n",
      "+----------+--------------------+--------------+-------------+--------+----------+--------+-------------------+-------+--------+-------+-------+-----------+----------------+-------------+\n",
      "only showing top 5 rows\n",
      "\n"
     ]
    }
   ],
   "source": [
    "df_data_set_2.show(5)"
   ]
  },
  {
   "attachments": {},
   "cell_type": "markdown",
   "metadata": {},
   "source": [
    "### Remove Repeated Columns and rename them"
   ]
  },
  {
   "cell_type": "code",
   "execution_count": 9,
   "metadata": {},
   "outputs": [],
   "source": [
    "def remove_unnamed_columns(df,column):\n",
    "    df = df.drop(column)\n",
    "    return df"
   ]
  },
  {
   "cell_type": "code",
   "execution_count": 10,
   "metadata": {},
   "outputs": [],
   "source": [
    "def remove_repeated_columns(df,column):\n",
    "    df=df.drop(column)\n",
    "    return df"
   ]
  },
  {
   "cell_type": "code",
   "execution_count": 11,
   "metadata": {},
   "outputs": [],
   "source": [
    "def rename_columns_df(df):\n",
    "    columns=list(df_data_set_1.columns)\n",
    "    for column in columns:\n",
    "       df= df.withColumnRenamed(column,column[:-1])\n",
    "    return df\n"
   ]
  },
  {
   "cell_type": "code",
   "execution_count": 12,
   "metadata": {},
   "outputs": [
    {
     "name": "stdout",
     "output_type": "stream",
     "text": [
      "+----------+--------------------+--------------+--------------+---------+-------------------+------+-------------------+--------+----------+--------+--------+------------+\n",
      "|       ID |               name |     category |main_category |currency |          deadline | goal |          launched |pledged |    state |backers |country |usd pledged |\n",
      "+----------+--------------------+--------------+--------------+---------+-------------------+------+-------------------+--------+----------+--------+--------+------------+\n",
      "|1000002330|The Songs of Adel...|        Poetry|    Publishing|      GBP|2015-10-09 11:36:00|  1000|2015-08-11 12:12:28|       0|    failed|       0|      GB|           0|\n",
      "|1000004038|      Where is Hank?|Narrative Film|  Film & Video|      USD|2013-02-26 00:20:50| 45000|2013-01-12 00:20:50|     220|    failed|       3|      US|         220|\n",
      "|1000007540|ToshiCapital Reko...|         Music|         Music|      USD|2012-04-16 04:24:11|  5000|2012-03-17 03:24:11|       1|    failed|       1|      US|           1|\n",
      "|1000011046|Community Film Pr...|  Film & Video|  Film & Video|      USD|2015-08-29 01:00:00| 19500|2015-07-04 08:35:03|    1283|  canceled|      14|      US|        1283|\n",
      "|1000014025|Monarch Espresso Bar|   Restaurants|          Food|      USD|2016-04-01 13:38:27| 50000|2016-02-26 13:38:27|   52375|successful|     224|      US|       52375|\n",
      "|1000023410|Support Solar Roa...|          Food|          Food|      USD|2014-12-21 18:30:44|  1000|2014-12-01 18:30:44|    1205|successful|      16|      US|        1205|\n",
      "|1000030581|Chaser Strips. Ou...|        Drinks|          Food|      USD|2016-03-17 19:05:12| 25000|2016-02-01 20:05:12|     453|    failed|      40|      US|         453|\n",
      "|1000034518|SPIN - Premium Re...|Product Design|        Design|      USD|2014-05-29 18:14:43|125000|2014-04-24 18:14:43|    8233|  canceled|      58|      US|        8233|\n",
      "| 100004195|STUDIO IN THE SKY...|   Documentary|  Film & Video|      USD|2014-08-10 21:55:48| 65000|2014-07-11 21:55:48| 6240.57|  canceled|      43|      US|     6240.57|\n",
      "| 100004721| Of Jesus and Madmen|    Nonfiction|    Publishing|      CAD|2013-10-09 18:19:37|  2500|2013-09-09 18:19:37|       0|    failed|       0|      CA|           0|\n",
      "+----------+--------------------+--------------+--------------+---------+-------------------+------+-------------------+--------+----------+--------+--------+------------+\n",
      "only showing top 10 rows\n",
      "\n"
     ]
    }
   ],
   "source": [
    "df_data_set_1=remove_unnamed_columns(df_data_set_1,\"_c13\")\n",
    "df_data_set_1=remove_unnamed_columns(df_data_set_1,\"_c14\")\n",
    "df_data_set_1=remove_unnamed_columns(df_data_set_1,\"_c15\")\n",
    "df_data_set_1=remove_unnamed_columns(df_data_set_1,\"_c16\")\n",
    "df_data_set_1.show(10)\n"
   ]
  },
  {
   "cell_type": "code",
   "execution_count": 13,
   "metadata": {},
   "outputs": [],
   "source": [
    "df_data_set_2=remove_repeated_columns(df_data_set_2,\"usd_pledged_real\")\n",
    "df_data_set_2=remove_repeated_columns(df_data_set_2,\"usd_goal_real\")"
   ]
  },
  {
   "cell_type": "code",
   "execution_count": 14,
   "metadata": {},
   "outputs": [
    {
     "name": "stdout",
     "output_type": "stream",
     "text": [
      "+----------+--------------------+--------------+-------------+--------+----------+--------+-------------------+-------+--------+-------+-------+-----------+\n",
      "|        ID|                name|      category|main_category|currency|  deadline|    goal|           launched|pledged|   state|backers|country|usd pledged|\n",
      "+----------+--------------------+--------------+-------------+--------+----------+--------+-------------------+-------+--------+-------+-------+-----------+\n",
      "|1000002330|The Songs of Adel...|        Poetry|   Publishing|     GBP|2015-10-09| 1000.00|2015-08-11 12:12:28|   0.00|  failed|      0|     GB|       0.00|\n",
      "|1000003930|Greeting From Ear...|Narrative Film| Film & Video|     USD|2017-11-01|30000.00|2017-09-02 04:43:57|2421.00|  failed|     15|     US|     100.00|\n",
      "|1000004038|      Where is Hank?|Narrative Film| Film & Video|     USD|2013-02-26|45000.00|2013-01-12 00:20:50| 220.00|  failed|      3|     US|     220.00|\n",
      "|1000007540|ToshiCapital Reko...|         Music|        Music|     USD|2012-04-16| 5000.00|2012-03-17 03:24:11|   1.00|  failed|      1|     US|       1.00|\n",
      "|1000011046|Community Film Pr...|  Film & Video| Film & Video|     USD|2015-08-29|19500.00|2015-07-04 08:35:03|1283.00|canceled|     14|     US|    1283.00|\n",
      "+----------+--------------------+--------------+-------------+--------+----------+--------+-------------------+-------+--------+-------+-------+-----------+\n",
      "only showing top 5 rows\n",
      "\n"
     ]
    }
   ],
   "source": [
    "df_data_set_2.show(5)"
   ]
  },
  {
   "cell_type": "code",
   "execution_count": 15,
   "metadata": {},
   "outputs": [],
   "source": [
    "df_data_set_1=rename_columns_df(df_data_set_1)"
   ]
  },
  {
   "attachments": {},
   "cell_type": "markdown",
   "metadata": {},
   "source": [
    "### Merge Data Set"
   ]
  },
  {
   "cell_type": "code",
   "execution_count": 16,
   "metadata": {},
   "outputs": [
    {
     "name": "stdout",
     "output_type": "stream",
     "text": [
      "+----------+--------------------+--------------+-------------+--------+-------------------+-----+-------------------+-------+----------+-------+-------+-----------+\n",
      "|        ID|                name|      category|main_category|currency|           deadline| goal|           launched|pledged|     state|backers|country|usd pledged|\n",
      "+----------+--------------------+--------------+-------------+--------+-------------------+-----+-------------------+-------+----------+-------+-------+-----------+\n",
      "|1000002330|The Songs of Adel...|        Poetry|   Publishing|     GBP|2015-10-09 11:36:00| 1000|2015-08-11 12:12:28|      0|    failed|      0|     GB|          0|\n",
      "|1000004038|      Where is Hank?|Narrative Film| Film & Video|     USD|2013-02-26 00:20:50|45000|2013-01-12 00:20:50|    220|    failed|      3|     US|        220|\n",
      "|1000007540|ToshiCapital Reko...|         Music|        Music|     USD|2012-04-16 04:24:11| 5000|2012-03-17 03:24:11|      1|    failed|      1|     US|          1|\n",
      "|1000011046|Community Film Pr...|  Film & Video| Film & Video|     USD|2015-08-29 01:00:00|19500|2015-07-04 08:35:03|   1283|  canceled|     14|     US|       1283|\n",
      "|1000014025|Monarch Espresso Bar|   Restaurants|         Food|     USD|2016-04-01 13:38:27|50000|2016-02-26 13:38:27|  52375|successful|    224|     US|      52375|\n",
      "+----------+--------------------+--------------+-------------+--------+-------------------+-----+-------------------+-------+----------+-------+-------+-----------+\n",
      "only showing top 5 rows\n",
      "\n"
     ]
    }
   ],
   "source": [
    "df = df_data_set_1.union(df_data_set_2)\n",
    "df .show(5)"
   ]
  },
  {
   "attachments": {},
   "cell_type": "markdown",
   "metadata": {},
   "source": [
    "### Preprocessing Data Set"
   ]
  },
  {
   "cell_type": "code",
   "execution_count": 17,
   "metadata": {},
   "outputs": [],
   "source": [
    "# drop all nulls remaining in name & category\n",
    "df = df.dropna( subset=['name', 'category','country'])"
   ]
  },
  {
   "cell_type": "code",
   "execution_count": 18,
   "metadata": {},
   "outputs": [
    {
     "data": {
      "text/plain": [
       "['ID',\n",
       " 'name',\n",
       " 'category',\n",
       " 'main_category',\n",
       " 'currency',\n",
       " 'deadline',\n",
       " 'goal',\n",
       " 'launched',\n",
       " 'pledged',\n",
       " 'state',\n",
       " 'backers',\n",
       " 'country',\n",
       " 'usd pledged']"
      ]
     },
     "execution_count": 18,
     "metadata": {},
     "output_type": "execute_result"
    }
   ],
   "source": [
    "df.columns"
   ]
  },
  {
   "cell_type": "code",
   "execution_count": 19,
   "metadata": {},
   "outputs": [],
   "source": [
    "df =df.toPandas()  "
   ]
  },
  {
   "cell_type": "code",
   "execution_count": 20,
   "metadata": {},
   "outputs": [
    {
     "data": {
      "text/plain": [
       "ID               0.000000\n",
       "name             0.000000\n",
       "category         0.000000\n",
       "main_category    0.000000\n",
       "currency         0.000000\n",
       "deadline         0.000000\n",
       "goal             0.000000\n",
       "launched         0.000000\n",
       "pledged          0.000000\n",
       "state            0.000000\n",
       "backers          0.000000\n",
       "country          0.000000\n",
       "usd pledged      0.010782\n",
       "dtype: float64"
      ]
     },
     "execution_count": 20,
     "metadata": {},
     "output_type": "execute_result"
    }
   ],
   "source": [
    "#get null percentage\n",
    "\n",
    "df.isnull().sum()/df.shape[0]"
   ]
  },
  {
   "cell_type": "code",
   "execution_count": 21,
   "metadata": {},
   "outputs": [
    {
     "data": {
      "text/html": [
       "<div>\n",
       "<style scoped>\n",
       "    .dataframe tbody tr th:only-of-type {\n",
       "        vertical-align: middle;\n",
       "    }\n",
       "\n",
       "    .dataframe tbody tr th {\n",
       "        vertical-align: top;\n",
       "    }\n",
       "\n",
       "    .dataframe thead th {\n",
       "        text-align: right;\n",
       "    }\n",
       "</style>\n",
       "<table border=\"1\" class=\"dataframe\">\n",
       "  <thead>\n",
       "    <tr style=\"text-align: right;\">\n",
       "      <th></th>\n",
       "      <th>ID</th>\n",
       "      <th>name</th>\n",
       "      <th>category</th>\n",
       "      <th>main_category</th>\n",
       "      <th>currency</th>\n",
       "      <th>deadline</th>\n",
       "      <th>goal</th>\n",
       "      <th>launched</th>\n",
       "      <th>pledged</th>\n",
       "      <th>state</th>\n",
       "      <th>backers</th>\n",
       "      <th>country</th>\n",
       "      <th>usd pledged</th>\n",
       "    </tr>\n",
       "  </thead>\n",
       "  <tbody>\n",
       "    <tr>\n",
       "      <th>0</th>\n",
       "      <td>1000002330</td>\n",
       "      <td>The Songs of Adelaide &amp; Abullah</td>\n",
       "      <td>Poetry</td>\n",
       "      <td>Publishing</td>\n",
       "      <td>GBP</td>\n",
       "      <td>2015-10-09 11:36:00</td>\n",
       "      <td>1000</td>\n",
       "      <td>2015-08-11 12:12:28</td>\n",
       "      <td>0</td>\n",
       "      <td>failed</td>\n",
       "      <td>0</td>\n",
       "      <td>GB</td>\n",
       "      <td>0</td>\n",
       "    </tr>\n",
       "    <tr>\n",
       "      <th>1</th>\n",
       "      <td>1000004038</td>\n",
       "      <td>Where is Hank?</td>\n",
       "      <td>Narrative Film</td>\n",
       "      <td>Film &amp; Video</td>\n",
       "      <td>USD</td>\n",
       "      <td>2013-02-26 00:20:50</td>\n",
       "      <td>45000</td>\n",
       "      <td>2013-01-12 00:20:50</td>\n",
       "      <td>220</td>\n",
       "      <td>failed</td>\n",
       "      <td>3</td>\n",
       "      <td>US</td>\n",
       "      <td>220</td>\n",
       "    </tr>\n",
       "    <tr>\n",
       "      <th>2</th>\n",
       "      <td>1000007540</td>\n",
       "      <td>ToshiCapital Rekordz Needs Help to Complete Album</td>\n",
       "      <td>Music</td>\n",
       "      <td>Music</td>\n",
       "      <td>USD</td>\n",
       "      <td>2012-04-16 04:24:11</td>\n",
       "      <td>5000</td>\n",
       "      <td>2012-03-17 03:24:11</td>\n",
       "      <td>1</td>\n",
       "      <td>failed</td>\n",
       "      <td>1</td>\n",
       "      <td>US</td>\n",
       "      <td>1</td>\n",
       "    </tr>\n",
       "    <tr>\n",
       "      <th>3</th>\n",
       "      <td>1000011046</td>\n",
       "      <td>Community Film Project: The Art of Neighborhoo...</td>\n",
       "      <td>Film &amp; Video</td>\n",
       "      <td>Film &amp; Video</td>\n",
       "      <td>USD</td>\n",
       "      <td>2015-08-29 01:00:00</td>\n",
       "      <td>19500</td>\n",
       "      <td>2015-07-04 08:35:03</td>\n",
       "      <td>1283</td>\n",
       "      <td>canceled</td>\n",
       "      <td>14</td>\n",
       "      <td>US</td>\n",
       "      <td>1283</td>\n",
       "    </tr>\n",
       "    <tr>\n",
       "      <th>4</th>\n",
       "      <td>1000014025</td>\n",
       "      <td>Monarch Espresso Bar</td>\n",
       "      <td>Restaurants</td>\n",
       "      <td>Food</td>\n",
       "      <td>USD</td>\n",
       "      <td>2016-04-01 13:38:27</td>\n",
       "      <td>50000</td>\n",
       "      <td>2016-02-26 13:38:27</td>\n",
       "      <td>52375</td>\n",
       "      <td>successful</td>\n",
       "      <td>224</td>\n",
       "      <td>US</td>\n",
       "      <td>52375</td>\n",
       "    </tr>\n",
       "  </tbody>\n",
       "</table>\n",
       "</div>"
      ],
      "text/plain": [
       "           ID                                               name  \\\n",
       "0  1000002330                    The Songs of Adelaide & Abullah   \n",
       "1  1000004038                                     Where is Hank?   \n",
       "2  1000007540  ToshiCapital Rekordz Needs Help to Complete Album   \n",
       "3  1000011046  Community Film Project: The Art of Neighborhoo...   \n",
       "4  1000014025                               Monarch Espresso Bar   \n",
       "\n",
       "         category main_category currency             deadline   goal  \\\n",
       "0          Poetry    Publishing      GBP  2015-10-09 11:36:00   1000   \n",
       "1  Narrative Film  Film & Video      USD  2013-02-26 00:20:50  45000   \n",
       "2           Music         Music      USD  2012-04-16 04:24:11   5000   \n",
       "3    Film & Video  Film & Video      USD  2015-08-29 01:00:00  19500   \n",
       "4     Restaurants          Food      USD  2016-04-01 13:38:27  50000   \n",
       "\n",
       "              launched pledged       state backers country usd pledged  \n",
       "0  2015-08-11 12:12:28       0      failed       0      GB           0  \n",
       "1  2013-01-12 00:20:50     220      failed       3      US         220  \n",
       "2  2012-03-17 03:24:11       1      failed       1      US           1  \n",
       "3  2015-07-04 08:35:03    1283    canceled      14      US        1283  \n",
       "4  2016-02-26 13:38:27   52375  successful     224      US       52375  "
      ]
     },
     "execution_count": 21,
     "metadata": {},
     "output_type": "execute_result"
    }
   ],
   "source": [
    "df.head(5)"
   ]
  },
  {
   "cell_type": "code",
   "execution_count": 22,
   "metadata": {},
   "outputs": [],
   "source": [
    "# convert usd pledged to float values\n",
    "df.loc[:,'usd pledged'] = pd.to_numeric(df['usd pledged'], downcast='float', errors='coerce')\n",
    "# convert goal to float\n",
    "df['goal'] = pd.to_numeric(df.goal, downcast='float', errors='coerce')"
   ]
  },
  {
   "cell_type": "code",
   "execution_count": 23,
   "metadata": {},
   "outputs": [],
   "source": [
    "# fill all nan with 0\n",
    "df = df.fillna(value=0.0)"
   ]
  },
  {
   "cell_type": "code",
   "execution_count": 24,
   "metadata": {},
   "outputs": [
    {
     "data": {
      "text/plain": [
       "N,0\"\"      3790\n",
       "\"N,\"\"0\"    3783\n",
       "0           348\n",
       "1           234\n",
       "failed      198\n",
       "           ... \n",
       "289           1\n",
       "483           1\n",
       "109           1\n",
       "288           1\n",
       "25.00         1\n",
       "Name: country, Length: 248, dtype: int64"
      ]
     },
     "execution_count": 24,
     "metadata": {},
     "output_type": "execute_result"
    }
   ],
   "source": [
    "# check nan in country\n",
    "df[~df.country.str.contains('^[A-Z]{2}$', case=False)].country.value_counts()"
   ]
  },
  {
   "cell_type": "code",
   "execution_count": 25,
   "metadata": {},
   "outputs": [],
   "source": [
    "# Replace null countries with None\n",
    "replace = df[~df.country.str.contains('^[A-Z]{2}$', case=False)].country.unique().tolist()\n",
    "df.loc[:,'country'] = df.country.replace(to_replace=replace, value='None')"
   ]
  },
  {
   "cell_type": "code",
   "execution_count": 26,
   "metadata": {},
   "outputs": [],
   "source": [
    "df.loc[:,'backers'] = pd.to_numeric(df.backers, errors='coerce', downcast='integer')"
   ]
  },
  {
   "cell_type": "code",
   "execution_count": 27,
   "metadata": {},
   "outputs": [],
   "source": [
    "df = df.dropna(axis=0, subset=['backers'])"
   ]
  },
  {
   "cell_type": "code",
   "execution_count": 28,
   "metadata": {},
   "outputs": [
    {
     "data": {
      "text/html": [
       "<div>\n",
       "<style scoped>\n",
       "    .dataframe tbody tr th:only-of-type {\n",
       "        vertical-align: middle;\n",
       "    }\n",
       "\n",
       "    .dataframe tbody tr th {\n",
       "        vertical-align: top;\n",
       "    }\n",
       "\n",
       "    .dataframe thead th {\n",
       "        text-align: right;\n",
       "    }\n",
       "</style>\n",
       "<table border=\"1\" class=\"dataframe\">\n",
       "  <thead>\n",
       "    <tr style=\"text-align: right;\">\n",
       "      <th></th>\n",
       "      <th>ID</th>\n",
       "      <th>name</th>\n",
       "      <th>category</th>\n",
       "      <th>main_category</th>\n",
       "      <th>currency</th>\n",
       "      <th>deadline</th>\n",
       "      <th>goal</th>\n",
       "      <th>launched</th>\n",
       "      <th>pledged</th>\n",
       "      <th>state</th>\n",
       "      <th>backers</th>\n",
       "      <th>country</th>\n",
       "      <th>usd pledged</th>\n",
       "    </tr>\n",
       "  </thead>\n",
       "  <tbody>\n",
       "    <tr>\n",
       "      <th>0</th>\n",
       "      <td>1000002330</td>\n",
       "      <td>The Songs of Adelaide &amp; Abullah</td>\n",
       "      <td>Poetry</td>\n",
       "      <td>Publishing</td>\n",
       "      <td>GBP</td>\n",
       "      <td>2015-10-09 11:36:00</td>\n",
       "      <td>1000.0</td>\n",
       "      <td>2015-08-11 12:12:28</td>\n",
       "      <td>0</td>\n",
       "      <td>failed</td>\n",
       "      <td>0.0</td>\n",
       "      <td>GB</td>\n",
       "      <td>0.000000</td>\n",
       "    </tr>\n",
       "    <tr>\n",
       "      <th>1</th>\n",
       "      <td>1000004038</td>\n",
       "      <td>Where is Hank?</td>\n",
       "      <td>Narrative Film</td>\n",
       "      <td>Film &amp; Video</td>\n",
       "      <td>USD</td>\n",
       "      <td>2013-02-26 00:20:50</td>\n",
       "      <td>45000.0</td>\n",
       "      <td>2013-01-12 00:20:50</td>\n",
       "      <td>220</td>\n",
       "      <td>failed</td>\n",
       "      <td>3.0</td>\n",
       "      <td>US</td>\n",
       "      <td>220.000000</td>\n",
       "    </tr>\n",
       "    <tr>\n",
       "      <th>2</th>\n",
       "      <td>1000007540</td>\n",
       "      <td>ToshiCapital Rekordz Needs Help to Complete Album</td>\n",
       "      <td>Music</td>\n",
       "      <td>Music</td>\n",
       "      <td>USD</td>\n",
       "      <td>2012-04-16 04:24:11</td>\n",
       "      <td>5000.0</td>\n",
       "      <td>2012-03-17 03:24:11</td>\n",
       "      <td>1</td>\n",
       "      <td>failed</td>\n",
       "      <td>1.0</td>\n",
       "      <td>US</td>\n",
       "      <td>1.000000</td>\n",
       "    </tr>\n",
       "    <tr>\n",
       "      <th>3</th>\n",
       "      <td>1000011046</td>\n",
       "      <td>Community Film Project: The Art of Neighborhoo...</td>\n",
       "      <td>Film &amp; Video</td>\n",
       "      <td>Film &amp; Video</td>\n",
       "      <td>USD</td>\n",
       "      <td>2015-08-29 01:00:00</td>\n",
       "      <td>19500.0</td>\n",
       "      <td>2015-07-04 08:35:03</td>\n",
       "      <td>1283</td>\n",
       "      <td>canceled</td>\n",
       "      <td>14.0</td>\n",
       "      <td>US</td>\n",
       "      <td>1283.000000</td>\n",
       "    </tr>\n",
       "    <tr>\n",
       "      <th>4</th>\n",
       "      <td>1000014025</td>\n",
       "      <td>Monarch Espresso Bar</td>\n",
       "      <td>Restaurants</td>\n",
       "      <td>Food</td>\n",
       "      <td>USD</td>\n",
       "      <td>2016-04-01 13:38:27</td>\n",
       "      <td>50000.0</td>\n",
       "      <td>2016-02-26 13:38:27</td>\n",
       "      <td>52375</td>\n",
       "      <td>successful</td>\n",
       "      <td>224.0</td>\n",
       "      <td>US</td>\n",
       "      <td>52375.000000</td>\n",
       "    </tr>\n",
       "    <tr>\n",
       "      <th>5</th>\n",
       "      <td>1000023410</td>\n",
       "      <td>Support Solar Roasted Coffee &amp; Green Energy!  ...</td>\n",
       "      <td>Food</td>\n",
       "      <td>Food</td>\n",
       "      <td>USD</td>\n",
       "      <td>2014-12-21 18:30:44</td>\n",
       "      <td>1000.0</td>\n",
       "      <td>2014-12-01 18:30:44</td>\n",
       "      <td>1205</td>\n",
       "      <td>successful</td>\n",
       "      <td>16.0</td>\n",
       "      <td>US</td>\n",
       "      <td>1205.000000</td>\n",
       "    </tr>\n",
       "    <tr>\n",
       "      <th>6</th>\n",
       "      <td>1000030581</td>\n",
       "      <td>Chaser Strips. Our Strips make Shots their B*tch!</td>\n",
       "      <td>Drinks</td>\n",
       "      <td>Food</td>\n",
       "      <td>USD</td>\n",
       "      <td>2016-03-17 19:05:12</td>\n",
       "      <td>25000.0</td>\n",
       "      <td>2016-02-01 20:05:12</td>\n",
       "      <td>453</td>\n",
       "      <td>failed</td>\n",
       "      <td>40.0</td>\n",
       "      <td>US</td>\n",
       "      <td>453.000000</td>\n",
       "    </tr>\n",
       "    <tr>\n",
       "      <th>7</th>\n",
       "      <td>1000034518</td>\n",
       "      <td>SPIN - Premium Retractable In-Ear Headphones w...</td>\n",
       "      <td>Product Design</td>\n",
       "      <td>Design</td>\n",
       "      <td>USD</td>\n",
       "      <td>2014-05-29 18:14:43</td>\n",
       "      <td>125000.0</td>\n",
       "      <td>2014-04-24 18:14:43</td>\n",
       "      <td>8233</td>\n",
       "      <td>canceled</td>\n",
       "      <td>58.0</td>\n",
       "      <td>US</td>\n",
       "      <td>8233.000000</td>\n",
       "    </tr>\n",
       "    <tr>\n",
       "      <th>8</th>\n",
       "      <td>100004195</td>\n",
       "      <td>STUDIO IN THE SKY - A Documentary Feature Film...</td>\n",
       "      <td>Documentary</td>\n",
       "      <td>Film &amp; Video</td>\n",
       "      <td>USD</td>\n",
       "      <td>2014-08-10 21:55:48</td>\n",
       "      <td>65000.0</td>\n",
       "      <td>2014-07-11 21:55:48</td>\n",
       "      <td>6240.57</td>\n",
       "      <td>canceled</td>\n",
       "      <td>43.0</td>\n",
       "      <td>US</td>\n",
       "      <td>6240.569824</td>\n",
       "    </tr>\n",
       "    <tr>\n",
       "      <th>9</th>\n",
       "      <td>100004721</td>\n",
       "      <td>Of Jesus and Madmen</td>\n",
       "      <td>Nonfiction</td>\n",
       "      <td>Publishing</td>\n",
       "      <td>CAD</td>\n",
       "      <td>2013-10-09 18:19:37</td>\n",
       "      <td>2500.0</td>\n",
       "      <td>2013-09-09 18:19:37</td>\n",
       "      <td>0</td>\n",
       "      <td>failed</td>\n",
       "      <td>0.0</td>\n",
       "      <td>CA</td>\n",
       "      <td>0.000000</td>\n",
       "    </tr>\n",
       "  </tbody>\n",
       "</table>\n",
       "</div>"
      ],
      "text/plain": [
       "           ID                                               name  \\\n",
       "0  1000002330                    The Songs of Adelaide & Abullah   \n",
       "1  1000004038                                     Where is Hank?   \n",
       "2  1000007540  ToshiCapital Rekordz Needs Help to Complete Album   \n",
       "3  1000011046  Community Film Project: The Art of Neighborhoo...   \n",
       "4  1000014025                               Monarch Espresso Bar   \n",
       "5  1000023410  Support Solar Roasted Coffee & Green Energy!  ...   \n",
       "6  1000030581  Chaser Strips. Our Strips make Shots their B*tch!   \n",
       "7  1000034518  SPIN - Premium Retractable In-Ear Headphones w...   \n",
       "8   100004195  STUDIO IN THE SKY - A Documentary Feature Film...   \n",
       "9   100004721                                Of Jesus and Madmen   \n",
       "\n",
       "         category main_category currency             deadline      goal  \\\n",
       "0          Poetry    Publishing      GBP  2015-10-09 11:36:00    1000.0   \n",
       "1  Narrative Film  Film & Video      USD  2013-02-26 00:20:50   45000.0   \n",
       "2           Music         Music      USD  2012-04-16 04:24:11    5000.0   \n",
       "3    Film & Video  Film & Video      USD  2015-08-29 01:00:00   19500.0   \n",
       "4     Restaurants          Food      USD  2016-04-01 13:38:27   50000.0   \n",
       "5            Food          Food      USD  2014-12-21 18:30:44    1000.0   \n",
       "6          Drinks          Food      USD  2016-03-17 19:05:12   25000.0   \n",
       "7  Product Design        Design      USD  2014-05-29 18:14:43  125000.0   \n",
       "8     Documentary  Film & Video      USD  2014-08-10 21:55:48   65000.0   \n",
       "9      Nonfiction    Publishing      CAD  2013-10-09 18:19:37    2500.0   \n",
       "\n",
       "              launched  pledged       state  backers country   usd pledged  \n",
       "0  2015-08-11 12:12:28        0      failed      0.0      GB      0.000000  \n",
       "1  2013-01-12 00:20:50      220      failed      3.0      US    220.000000  \n",
       "2  2012-03-17 03:24:11        1      failed      1.0      US      1.000000  \n",
       "3  2015-07-04 08:35:03     1283    canceled     14.0      US   1283.000000  \n",
       "4  2016-02-26 13:38:27    52375  successful    224.0      US  52375.000000  \n",
       "5  2014-12-01 18:30:44     1205  successful     16.0      US   1205.000000  \n",
       "6  2016-02-01 20:05:12      453      failed     40.0      US    453.000000  \n",
       "7  2014-04-24 18:14:43     8233    canceled     58.0      US   8233.000000  \n",
       "8  2014-07-11 21:55:48  6240.57    canceled     43.0      US   6240.569824  \n",
       "9  2013-09-09 18:19:37        0      failed      0.0      CA      0.000000  "
      ]
     },
     "execution_count": 28,
     "metadata": {},
     "output_type": "execute_result"
    }
   ],
   "source": [
    "df.head(10)"
   ]
  },
  {
   "cell_type": "code",
   "execution_count": 29,
   "metadata": {},
   "outputs": [
    {
     "data": {
      "text/plain": [
       "failed                 364650\n",
       "successful             246026\n",
       "canceled                70955\n",
       "live                     7216\n",
       "undefined                7105\n",
       "                        ...  \n",
       "2016-02-22 21:57:30         1\n",
       "2015-01-28 13:53:56         1\n",
       "2014-10-06 10:58:27         1\n",
       "2015-10-10 01:00:00         1\n",
       "2013-04-30                  1\n",
       "Name: state, Length: 204, dtype: int64"
      ]
     },
     "execution_count": 29,
     "metadata": {},
     "output_type": "execute_result"
    }
   ],
   "source": [
    "df[\"state\"].value_counts()"
   ]
  },
  {
   "cell_type": "code",
   "execution_count": 30,
   "metadata": {},
   "outputs": [],
   "source": [
    "failed=df.loc[df['state'] == \"failed\"  ]"
   ]
  },
  {
   "cell_type": "code",
   "execution_count": 31,
   "metadata": {},
   "outputs": [],
   "source": [
    "successed =df.loc[df['state'] == \"successful\"]"
   ]
  },
  {
   "cell_type": "code",
   "execution_count": 32,
   "metadata": {},
   "outputs": [],
   "source": [
    "new_frames = [successed,failed]\n",
    "new_df = pd.concat(new_frames)"
   ]
  },
  {
   "cell_type": "code",
   "execution_count": 33,
   "metadata": {},
   "outputs": [
    {
     "data": {
      "text/plain": [
       "failed        364650\n",
       "successful    246026\n",
       "Name: state, dtype: int64"
      ]
     },
     "execution_count": 33,
     "metadata": {},
     "output_type": "execute_result"
    }
   ],
   "source": [
    "new_df[\"state\"].value_counts()"
   ]
  },
  {
   "cell_type": "code",
   "execution_count": 34,
   "metadata": {},
   "outputs": [],
   "source": [
    "new_df.to_csv('output.csv',index=False)"
   ]
  }
 ],
 "metadata": {
  "kernelspec": {
   "display_name": "Python 3",
   "language": "python",
   "name": "python3"
  },
  "language_info": {
   "codemirror_mode": {
    "name": "ipython",
    "version": 3
   },
   "file_extension": ".py",
   "mimetype": "text/x-python",
   "name": "python",
   "nbconvert_exporter": "python",
   "pygments_lexer": "ipython3",
   "version": "3.7.12"
  },
  "orig_nbformat": 4
 },
 "nbformat": 4,
 "nbformat_minor": 2
}

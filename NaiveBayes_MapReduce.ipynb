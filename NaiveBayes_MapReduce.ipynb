{
 "cells": [
  {
   "cell_type": "code",
   "execution_count": 1,
   "metadata": {},
   "outputs": [],
   "source": [
    "import pandas as pd\n",
    "import numpy as np\n",
    "from pyspark.sql import SparkSession\n",
    "from pyspark.ml.evaluation import MulticlassClassificationEvaluator\n",
    "from pyspark.sql.types import StructType, StructField, DoubleType"
   ]
  },
  {
   "cell_type": "code",
   "execution_count": 2,
   "metadata": {},
   "outputs": [],
   "source": [
    "df = pd.read_csv('data/output.csv')"
   ]
  },
  {
   "cell_type": "code",
   "execution_count": 3,
   "metadata": {},
   "outputs": [
    {
     "data": {
      "text/html": [
       "<div>\n",
       "<style scoped>\n",
       "    .dataframe tbody tr th:only-of-type {\n",
       "        vertical-align: middle;\n",
       "    }\n",
       "\n",
       "    .dataframe tbody tr th {\n",
       "        vertical-align: top;\n",
       "    }\n",
       "\n",
       "    .dataframe thead th {\n",
       "        text-align: right;\n",
       "    }\n",
       "</style>\n",
       "<table border=\"1\" class=\"dataframe\">\n",
       "  <thead>\n",
       "    <tr style=\"text-align: right;\">\n",
       "      <th></th>\n",
       "      <th>ID</th>\n",
       "      <th>name</th>\n",
       "      <th>category</th>\n",
       "      <th>main_category</th>\n",
       "      <th>currency</th>\n",
       "      <th>deadline</th>\n",
       "      <th>goal</th>\n",
       "      <th>launched</th>\n",
       "      <th>pledged</th>\n",
       "      <th>state</th>\n",
       "      <th>backers</th>\n",
       "      <th>country</th>\n",
       "      <th>usd pledged</th>\n",
       "    </tr>\n",
       "  </thead>\n",
       "  <tbody>\n",
       "    <tr>\n",
       "      <th>0</th>\n",
       "      <td>1000014025</td>\n",
       "      <td>Monarch Espresso Bar</td>\n",
       "      <td>Restaurants</td>\n",
       "      <td>Food</td>\n",
       "      <td>USD</td>\n",
       "      <td>2016-04-01 13:38:27</td>\n",
       "      <td>50000.0</td>\n",
       "      <td>2016-02-26 13:38:27</td>\n",
       "      <td>52375.0</td>\n",
       "      <td>successful</td>\n",
       "      <td>224.0</td>\n",
       "      <td>US</td>\n",
       "      <td>52375.0</td>\n",
       "    </tr>\n",
       "  </tbody>\n",
       "</table>\n",
       "</div>"
      ],
      "text/plain": [
       "           ID                  name     category main_category currency  \\\n",
       "0  1000014025  Monarch Espresso Bar  Restaurants          Food      USD   \n",
       "\n",
       "              deadline     goal             launched  pledged       state  \\\n",
       "0  2016-04-01 13:38:27  50000.0  2016-02-26 13:38:27  52375.0  successful   \n",
       "\n",
       "   backers country  usd pledged  \n",
       "0    224.0      US      52375.0  "
      ]
     },
     "execution_count": 3,
     "metadata": {},
     "output_type": "execute_result"
    }
   ],
   "source": [
    "df.head(1)"
   ]
  },
  {
   "cell_type": "code",
   "execution_count": 4,
   "metadata": {},
   "outputs": [
    {
     "data": {
      "text/plain": [
       "ID               0\n",
       "name             3\n",
       "category         0\n",
       "main_category    0\n",
       "currency         0\n",
       "deadline         0\n",
       "goal             0\n",
       "launched         0\n",
       "pledged          0\n",
       "state            0\n",
       "backers          0\n",
       "country          0\n",
       "usd pledged      0\n",
       "dtype: int64"
      ]
     },
     "execution_count": 4,
     "metadata": {},
     "output_type": "execute_result"
    }
   ],
   "source": [
    "df.isnull().sum()"
   ]
  },
  {
   "cell_type": "code",
   "execution_count": 5,
   "metadata": {},
   "outputs": [
    {
     "name": "stderr",
     "output_type": "stream",
     "text": [
      "23/05/08 14:48:00 WARN Utils: Your hostname, jimbo-G5-5587 resolves to a loopback address: 127.0.1.1; using 192.168.1.5 instead (on interface wlp0s20f3)\n",
      "23/05/08 14:48:00 WARN Utils: Set SPARK_LOCAL_IP if you need to bind to another address\n",
      "Setting default log level to \"WARN\".\n",
      "To adjust logging level use sc.setLogLevel(newLevel). For SparkR, use setLogLevel(newLevel).\n",
      "23/05/08 14:48:01 WARN NativeCodeLoader: Unable to load native-hadoop library for your platform... using builtin-java classes where applicable\n"
     ]
    }
   ],
   "source": [
    "spark=SparkSession.builder\\\n",
    "    .master(\"local[*]\")\\\n",
    "    .appName(\"NaiveBayes\")\\\n",
    "    .getOrCreate()\n",
    "sc=spark.sparkContext"
   ]
  },
  {
   "cell_type": "code",
   "execution_count": 6,
   "metadata": {},
   "outputs": [],
   "source": [
    "# Prepare data for training\n",
    "\n",
    "# Drop unnecessary columns\n",
    "df.drop(['ID', 'name', 'usd pledged'], axis=1, inplace=True)\n",
    "\n",
    "# Drop rows with missing values\n",
    "df.dropna(inplace=True)\n",
    "\n",
    "# Calculate the project duration in days\n",
    "df['deadline'] = pd.to_datetime(df['deadline'])\n",
    "df['launched'] = pd.to_datetime(df['launched'])\n",
    "df['duration'] = (df['deadline'] - df['launched']).dt.days\n",
    "df.drop(['deadline', 'launched'], axis=1, inplace=True)\n",
    "\n",
    "# convert all strings to lowercase\n",
    "df['category'] = df['category'].str.lower()\n",
    "df['main_category'] = df['main_category'].str.lower()\n",
    "df['currency'] = df['currency'].str.lower()\n",
    "df.drop(['category'], axis=1, inplace=True)\n",
    "\n",
    "# Change the state column to 0 and 1\n",
    "df[\"state\"] = df[\"state\"].map({\"failed\": 0, \"successful\": 1})"
   ]
  },
  {
   "cell_type": "code",
   "execution_count": 7,
   "metadata": {},
   "outputs": [
    {
     "data": {
      "text/html": [
       "<div>\n",
       "<style scoped>\n",
       "    .dataframe tbody tr th:only-of-type {\n",
       "        vertical-align: middle;\n",
       "    }\n",
       "\n",
       "    .dataframe tbody tr th {\n",
       "        vertical-align: top;\n",
       "    }\n",
       "\n",
       "    .dataframe thead th {\n",
       "        text-align: right;\n",
       "    }\n",
       "</style>\n",
       "<table border=\"1\" class=\"dataframe\">\n",
       "  <thead>\n",
       "    <tr style=\"text-align: right;\">\n",
       "      <th></th>\n",
       "      <th>main_category</th>\n",
       "      <th>currency</th>\n",
       "      <th>goal</th>\n",
       "      <th>pledged</th>\n",
       "      <th>state</th>\n",
       "      <th>backers</th>\n",
       "      <th>country</th>\n",
       "      <th>duration</th>\n",
       "    </tr>\n",
       "  </thead>\n",
       "  <tbody>\n",
       "    <tr>\n",
       "      <th>0</th>\n",
       "      <td>food</td>\n",
       "      <td>usd</td>\n",
       "      <td>50000.0</td>\n",
       "      <td>52375.0</td>\n",
       "      <td>1</td>\n",
       "      <td>224.0</td>\n",
       "      <td>US</td>\n",
       "      <td>35</td>\n",
       "    </tr>\n",
       "  </tbody>\n",
       "</table>\n",
       "</div>"
      ],
      "text/plain": [
       "  main_category currency     goal  pledged  state  backers country  duration\n",
       "0          food      usd  50000.0  52375.0      1    224.0      US        35"
      ]
     },
     "execution_count": 7,
     "metadata": {},
     "output_type": "execute_result"
    }
   ],
   "source": [
    "df.head(1)"
   ]
  },
  {
   "cell_type": "code",
   "execution_count": 8,
   "metadata": {},
   "outputs": [],
   "source": [
    "df = pd.get_dummies(df, columns=[\"main_category\", \"currency\", \"country\"])"
   ]
  },
  {
   "cell_type": "code",
   "execution_count": 9,
   "metadata": {},
   "outputs": [
    {
     "data": {
      "text/plain": [
       "Index(['goal', 'pledged', 'state', 'backers', 'duration', 'main_category_art',\n",
       "       'main_category_comics', 'main_category_crafts', 'main_category_dance',\n",
       "       'main_category_design', 'main_category_fashion',\n",
       "       'main_category_film & video', 'main_category_food',\n",
       "       'main_category_games', 'main_category_journalism',\n",
       "       'main_category_music', 'main_category_photography',\n",
       "       'main_category_publishing', 'main_category_technology',\n",
       "       'main_category_theater', 'currency_aud', 'currency_cad', 'currency_chf',\n",
       "       'currency_dkk', 'currency_eur', 'currency_gbp', 'currency_hkd',\n",
       "       'currency_jpy', 'currency_mxn', 'currency_nok', 'currency_nzd',\n",
       "       'currency_sek', 'currency_sgd', 'currency_usd', 'country_AT',\n",
       "       'country_AU', 'country_BE', 'country_CA', 'country_CH', 'country_DE',\n",
       "       'country_DK', 'country_ES', 'country_FR', 'country_GB', 'country_HK',\n",
       "       'country_IE', 'country_IT', 'country_JP', 'country_LU', 'country_MX',\n",
       "       'country_NL', 'country_NO', 'country_NZ', 'country_None', 'country_SE',\n",
       "       'country_SG', 'country_US'],\n",
       "      dtype='object')"
      ]
     },
     "execution_count": 9,
     "metadata": {},
     "output_type": "execute_result"
    }
   ],
   "source": [
    "df.columns"
   ]
  },
  {
   "cell_type": "code",
   "execution_count": 10,
   "metadata": {},
   "outputs": [
    {
     "data": {
      "text/html": [
       "<div>\n",
       "<style scoped>\n",
       "    .dataframe tbody tr th:only-of-type {\n",
       "        vertical-align: middle;\n",
       "    }\n",
       "\n",
       "    .dataframe tbody tr th {\n",
       "        vertical-align: top;\n",
       "    }\n",
       "\n",
       "    .dataframe thead th {\n",
       "        text-align: right;\n",
       "    }\n",
       "</style>\n",
       "<table border=\"1\" class=\"dataframe\">\n",
       "  <thead>\n",
       "    <tr style=\"text-align: right;\">\n",
       "      <th></th>\n",
       "      <th>goal</th>\n",
       "      <th>pledged</th>\n",
       "      <th>state</th>\n",
       "      <th>backers</th>\n",
       "      <th>duration</th>\n",
       "      <th>main_category_art</th>\n",
       "      <th>main_category_comics</th>\n",
       "      <th>main_category_crafts</th>\n",
       "      <th>main_category_dance</th>\n",
       "      <th>main_category_design</th>\n",
       "      <th>...</th>\n",
       "      <th>country_JP</th>\n",
       "      <th>country_LU</th>\n",
       "      <th>country_MX</th>\n",
       "      <th>country_NL</th>\n",
       "      <th>country_NO</th>\n",
       "      <th>country_NZ</th>\n",
       "      <th>country_None</th>\n",
       "      <th>country_SE</th>\n",
       "      <th>country_SG</th>\n",
       "      <th>country_US</th>\n",
       "    </tr>\n",
       "  </thead>\n",
       "  <tbody>\n",
       "    <tr>\n",
       "      <th>0</th>\n",
       "      <td>50000.0</td>\n",
       "      <td>52375.00</td>\n",
       "      <td>1</td>\n",
       "      <td>224.0</td>\n",
       "      <td>35</td>\n",
       "      <td>0</td>\n",
       "      <td>0</td>\n",
       "      <td>0</td>\n",
       "      <td>0</td>\n",
       "      <td>0</td>\n",
       "      <td>...</td>\n",
       "      <td>0</td>\n",
       "      <td>0</td>\n",
       "      <td>0</td>\n",
       "      <td>0</td>\n",
       "      <td>0</td>\n",
       "      <td>0</td>\n",
       "      <td>0</td>\n",
       "      <td>0</td>\n",
       "      <td>0</td>\n",
       "      <td>1</td>\n",
       "    </tr>\n",
       "    <tr>\n",
       "      <th>1</th>\n",
       "      <td>1000.0</td>\n",
       "      <td>1205.00</td>\n",
       "      <td>1</td>\n",
       "      <td>16.0</td>\n",
       "      <td>20</td>\n",
       "      <td>0</td>\n",
       "      <td>0</td>\n",
       "      <td>0</td>\n",
       "      <td>0</td>\n",
       "      <td>0</td>\n",
       "      <td>...</td>\n",
       "      <td>0</td>\n",
       "      <td>0</td>\n",
       "      <td>0</td>\n",
       "      <td>0</td>\n",
       "      <td>0</td>\n",
       "      <td>0</td>\n",
       "      <td>0</td>\n",
       "      <td>0</td>\n",
       "      <td>0</td>\n",
       "      <td>1</td>\n",
       "    </tr>\n",
       "    <tr>\n",
       "      <th>2</th>\n",
       "      <td>12500.0</td>\n",
       "      <td>12700.00</td>\n",
       "      <td>1</td>\n",
       "      <td>100.0</td>\n",
       "      <td>30</td>\n",
       "      <td>0</td>\n",
       "      <td>0</td>\n",
       "      <td>0</td>\n",
       "      <td>0</td>\n",
       "      <td>0</td>\n",
       "      <td>...</td>\n",
       "      <td>0</td>\n",
       "      <td>0</td>\n",
       "      <td>0</td>\n",
       "      <td>0</td>\n",
       "      <td>0</td>\n",
       "      <td>0</td>\n",
       "      <td>0</td>\n",
       "      <td>0</td>\n",
       "      <td>0</td>\n",
       "      <td>1</td>\n",
       "    </tr>\n",
       "    <tr>\n",
       "      <th>3</th>\n",
       "      <td>250.0</td>\n",
       "      <td>250.00</td>\n",
       "      <td>1</td>\n",
       "      <td>7.0</td>\n",
       "      <td>15</td>\n",
       "      <td>0</td>\n",
       "      <td>0</td>\n",
       "      <td>0</td>\n",
       "      <td>0</td>\n",
       "      <td>0</td>\n",
       "      <td>...</td>\n",
       "      <td>0</td>\n",
       "      <td>0</td>\n",
       "      <td>0</td>\n",
       "      <td>0</td>\n",
       "      <td>0</td>\n",
       "      <td>0</td>\n",
       "      <td>0</td>\n",
       "      <td>0</td>\n",
       "      <td>0</td>\n",
       "      <td>1</td>\n",
       "    </tr>\n",
       "    <tr>\n",
       "      <th>4</th>\n",
       "      <td>20000.0</td>\n",
       "      <td>34268.00</td>\n",
       "      <td>1</td>\n",
       "      <td>624.0</td>\n",
       "      <td>35</td>\n",
       "      <td>0</td>\n",
       "      <td>0</td>\n",
       "      <td>0</td>\n",
       "      <td>0</td>\n",
       "      <td>0</td>\n",
       "      <td>...</td>\n",
       "      <td>0</td>\n",
       "      <td>0</td>\n",
       "      <td>0</td>\n",
       "      <td>0</td>\n",
       "      <td>0</td>\n",
       "      <td>0</td>\n",
       "      <td>0</td>\n",
       "      <td>0</td>\n",
       "      <td>0</td>\n",
       "      <td>1</td>\n",
       "    </tr>\n",
       "    <tr>\n",
       "      <th>5</th>\n",
       "      <td>175.0</td>\n",
       "      <td>701.66</td>\n",
       "      <td>1</td>\n",
       "      <td>66.0</td>\n",
       "      <td>20</td>\n",
       "      <td>0</td>\n",
       "      <td>1</td>\n",
       "      <td>0</td>\n",
       "      <td>0</td>\n",
       "      <td>0</td>\n",
       "      <td>...</td>\n",
       "      <td>0</td>\n",
       "      <td>0</td>\n",
       "      <td>0</td>\n",
       "      <td>0</td>\n",
       "      <td>0</td>\n",
       "      <td>0</td>\n",
       "      <td>0</td>\n",
       "      <td>0</td>\n",
       "      <td>0</td>\n",
       "      <td>1</td>\n",
       "    </tr>\n",
       "  </tbody>\n",
       "</table>\n",
       "<p>6 rows × 57 columns</p>\n",
       "</div>"
      ],
      "text/plain": [
       "      goal   pledged  state  backers  duration  main_category_art  \\\n",
       "0  50000.0  52375.00      1    224.0        35                  0   \n",
       "1   1000.0   1205.00      1     16.0        20                  0   \n",
       "2  12500.0  12700.00      1    100.0        30                  0   \n",
       "3    250.0    250.00      1      7.0        15                  0   \n",
       "4  20000.0  34268.00      1    624.0        35                  0   \n",
       "5    175.0    701.66      1     66.0        20                  0   \n",
       "\n",
       "   main_category_comics  main_category_crafts  main_category_dance  \\\n",
       "0                     0                     0                    0   \n",
       "1                     0                     0                    0   \n",
       "2                     0                     0                    0   \n",
       "3                     0                     0                    0   \n",
       "4                     0                     0                    0   \n",
       "5                     1                     0                    0   \n",
       "\n",
       "   main_category_design  ...  country_JP  country_LU  country_MX  country_NL  \\\n",
       "0                     0  ...           0           0           0           0   \n",
       "1                     0  ...           0           0           0           0   \n",
       "2                     0  ...           0           0           0           0   \n",
       "3                     0  ...           0           0           0           0   \n",
       "4                     0  ...           0           0           0           0   \n",
       "5                     0  ...           0           0           0           0   \n",
       "\n",
       "   country_NO  country_NZ  country_None  country_SE  country_SG  country_US  \n",
       "0           0           0             0           0           0           1  \n",
       "1           0           0             0           0           0           1  \n",
       "2           0           0             0           0           0           1  \n",
       "3           0           0             0           0           0           1  \n",
       "4           0           0             0           0           0           1  \n",
       "5           0           0             0           0           0           1  \n",
       "\n",
       "[6 rows x 57 columns]"
      ]
     },
     "execution_count": 10,
     "metadata": {},
     "output_type": "execute_result"
    }
   ],
   "source": [
    "df.head(6)"
   ]
  },
  {
   "cell_type": "code",
   "execution_count": 11,
   "metadata": {},
   "outputs": [],
   "source": [
    "# Define the map function\n",
    "def map_function(line):\n",
    "    # Extract the features and target from the line\n",
    "    X = line[:-1]\n",
    "    y = int(line[-1])\n",
    "\n",
    "    # Create a list of tuples to store the feature index, value, target, and count\n",
    "    tuples = []\n",
    "\n",
    "    # Loop through each feature index and value\n",
    "    for i, x in enumerate(X):\n",
    "        # Append a tuple of feature index, value, target, and count to the list\n",
    "        tuples.append(((i, x, y), 1))\n",
    "\n",
    "    # Return the list of tuples\n",
    "    return tuples\n",
    "\n",
    "# Define the reduce function\n",
    "def reduce_function(a, b):\n",
    "    # Sum the counts for each tuple\n",
    "    return a + b"
   ]
  },
  {
   "cell_type": "code",
   "execution_count": 12,
   "metadata": {},
   "outputs": [],
   "source": [
    "spark_df = spark.createDataFrame(df)"
   ]
  },
  {
   "cell_type": "code",
   "execution_count": 13,
   "metadata": {},
   "outputs": [],
   "source": [
    "train, test = spark_df.randomSplit([0.7, 0.3], seed=12345)"
   ]
  },
  {
   "cell_type": "code",
   "execution_count": 14,
   "metadata": {},
   "outputs": [],
   "source": [
    "train = train.rdd\n",
    "test = test.rdd"
   ]
  },
  {
   "cell_type": "code",
   "execution_count": 15,
   "metadata": {},
   "outputs": [],
   "source": [
    "# Apply the map function to the data RDD\n",
    "mapped_rdd = train.flatMap(map_function)"
   ]
  },
  {
   "cell_type": "code",
   "execution_count": 16,
   "metadata": {},
   "outputs": [],
   "source": [
    "# Apply the reduce function to count the occurrences of each tuple\n",
    "reduced_rdd = mapped_rdd.reduceByKey(reduce_function)"
   ]
  },
  {
   "cell_type": "code",
   "execution_count": 17,
   "metadata": {},
   "outputs": [
    {
     "name": "stderr",
     "output_type": "stream",
     "text": [
      "23/05/08 14:50:21 WARN TaskSetManager: Stage 0 contains a task of very large size (3734 KiB). The maximum recommended task size is 1000 KiB.\n",
      "                                                                                \r"
     ]
    }
   ],
   "source": [
    "# Collect the frequency table as a dictionary\n",
    "frequency_table = reduced_rdd.collectAsMap()"
   ]
  },
  {
   "cell_type": "code",
   "execution_count": 22,
   "metadata": {},
   "outputs": [],
   "source": [
    "def predict(line, frequency_table):\n",
    "    frequency_table = frequency_table.value\n",
    "\n",
    "    # Extract the features and target from the line\n",
    "    X = line[:-1]\n",
    "    y = int(line[-1])\n",
    "\n",
    "    # Initialize an empty list to store the posterior probabilities for each class label\n",
    "    posteriors = []\n",
    "\n",
    "    # Loop through each class label (0 or 1)\n",
    "    for label in [0, 1]:\n",
    "        # Initialize the posterior probability as the prior probability of the class label with Laplace smoothing\n",
    "        posterior = (frequency_table[(-1, label)] + 1) / (frequency_table[(-1, -1)] + 2)\n",
    "\n",
    "        # Loop through each feature index and value\n",
    "        for i, x in enumerate(X):\n",
    "            x = float(x)\n",
    "            try:\n",
    "                posterior *= (frequency_table[(i, x, label)] + 1) / (frequency_table[(-1, label)] + len(frequency_table))\n",
    "            except:\n",
    "                #print(\"Error: Feature %d value %s not in training data\" % (i, x))\n",
    "                posterior *= (0 + 1) / (frequency_table[(-1, label)] + len(frequency_table))\n",
    "\n",
    "        # Append the posterior probability to the list\n",
    "        posteriors.append(posterior)\n",
    "\n",
    "    # Choose the class label with the highest posterior probability as the prediction\n",
    "    prediction = np.argmax(posteriors)\n",
    "\n",
    "    # Return a tuple of true label and predicted label\n",
    "    return (float(y), float(prediction))"
   ]
  },
  {
   "cell_type": "code",
   "execution_count": 23,
   "metadata": {},
   "outputs": [
    {
     "name": "stderr",
     "output_type": "stream",
     "text": [
      "23/05/08 14:51:07 WARN TaskSetManager: Stage 7 contains a task of very large size (3734 KiB). The maximum recommended task size is 1000 KiB.\n",
      "23/05/08 14:51:09 WARN TaskSetManager: Stage 8 contains a task of very large size (3734 KiB). The maximum recommended task size is 1000 KiB.\n",
      "23/05/08 14:51:10 WARN TaskSetManager: Stage 9 contains a task of very large size (3734 KiB). The maximum recommended task size is 1000 KiB.\n",
      "                                                                                \r"
     ]
    }
   ],
   "source": [
    "# Add a special key-value pair to store the total number of records in the train RDD\n",
    "frequency_table[(-1, -1)] = train.count()\n",
    "# Add another special key-value pair to store the number of records with each class label in the train RDD\n",
    "frequency_table[(-1, 0)] = train.filter(lambda row: row.state == 0).count()\n",
    "frequency_table[(-1, 1)] = train.filter(lambda row: row.state == 1).count()\n",
    "\n",
    "bcast = spark.sparkContext.broadcast(frequency_table)\n",
    "\n",
    "# Apply the predict function on the test RDD using map and pass the frequency_table as an argument using broadcast\n",
    "predictions = test.map(lambda line: predict(line, bcast))\n",
    "# Evaluate the accuracy of the predictions using MulticlassClassificationEvaluator\n",
    "evaluator = MulticlassClassificationEvaluator(labelCol=\"true_label\", predictionCol=\"predicted_label\", metricName=\"accuracy\")\n",
    "# Define the schema of the predictions DataFrame\n",
    "schema = StructType([\n",
    "  StructField(\"true_label\", DoubleType(), True),\n",
    "  StructField(\"predicted_label\", DoubleType(), True)\n",
    "])\n",
    "# Create a DataFrame from the predictions RDD\n",
    "predictions = predictions.toDF(schema=schema)"
   ]
  },
  {
   "cell_type": "code",
   "execution_count": 24,
   "metadata": {},
   "outputs": [
    {
     "name": "stderr",
     "output_type": "stream",
     "text": [
      "23/05/08 14:51:12 WARN TaskSetManager: Stage 10 contains a task of very large size (3734 KiB). The maximum recommended task size is 1000 KiB.\n",
      "[Stage 10:==============>                                          (3 + 9) / 12]\r"
     ]
    },
    {
     "name": "stdout",
     "output_type": "stream",
     "text": [
      "Test set accuracy = 0.7859765014873106\n"
     ]
    },
    {
     "name": "stderr",
     "output_type": "stream",
     "text": [
      "                                                                                \r"
     ]
    }
   ],
   "source": [
    "accuracy = evaluator.evaluate(predictions)\n",
    "print(f\"Test set accuracy = {accuracy}\")"
   ]
  },
  {
   "cell_type": "code",
   "execution_count": null,
   "metadata": {},
   "outputs": [],
   "source": []
  }
 ],
 "metadata": {
  "kernelspec": {
   "display_name": "Python 3",
   "language": "python",
   "name": "python3"
  },
  "language_info": {
   "codemirror_mode": {
    "name": "ipython",
    "version": 3
   },
   "file_extension": ".py",
   "mimetype": "text/x-python",
   "name": "python",
   "nbconvert_exporter": "python",
   "pygments_lexer": "ipython3",
   "version": "3.8.5"
  },
  "orig_nbformat": 4,
  "vscode": {
   "interpreter": {
    "hash": "0eefc6a63c6d719296cee5685f23fefb92aa63e2e9fdaf52ddbdc4ce266c7bb3"
   }
  }
 },
 "nbformat": 4,
 "nbformat_minor": 2
}
